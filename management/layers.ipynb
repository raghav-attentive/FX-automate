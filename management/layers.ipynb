{
 "cells": [
  {
   "cell_type": "code",
   "execution_count": 16,
   "metadata": {},
   "outputs": [],
   "source": [
    "import time\n",
    "from selenium import webdriver\n",
    "from selenium.webdriver.common.keys import Keys\n",
    "from selenium.webdriver.common.by import By\n",
    "from selenium.webdriver.common.action_chains import ActionChains\n",
    "from selenium.webdriver.support.ui import WebDriverWait\n",
    "from selenium.webdriver.support import expected_conditions as EC\n",
    "import pyautogui, sys\n",
    "import mouse\n",
    "import requests"
   ]
  },
  {
   "cell_type": "code",
   "execution_count": 17,
   "metadata": {},
   "outputs": [],
   "source": [
    "# Open Browser\n",
    "driver = webdriver.Chrome()\n",
    "driver.maximize_window()\n",
    "driver.get(\"https://qa.annotations.attentive.ai\")   "
   ]
  },
  {
   "cell_type": "code",
   "execution_count": 18,
   "metadata": {},
   "outputs": [
    {
     "name": "stdout",
     "output_type": "stream",
     "text": [
      "User logged In Successfully!\n"
     ]
    }
   ],
   "source": [
    "# Login annotations \n",
    "email = driver.find_element(By.XPATH,'/html/body/div/div/section/div/div[2]/div/div/form/input')\n",
    "email.click()\n",
    "email.send_keys('raghav.narula@attentive.ai')\n",
    "\n",
    "pwd = driver.find_element(By.XPATH,'/html/body/div/div/section/div/div[2]/div/div/form/span/input')\n",
    "pwd.click()\n",
    "pwd.send_keys('Password!123')\n",
    "\n",
    "driver.find_element(By.XPATH,'/html/body/div/div/section/div/div[2]/div/div/form/button').click()\n",
    "\n",
    "print(\"User logged In Successfully!\")"
   ]
  },
  {
   "cell_type": "code",
   "execution_count": 19,
   "metadata": {},
   "outputs": [],
   "source": [
    "time.sleep(5)"
   ]
  },
  {
   "cell_type": "code",
   "execution_count": 20,
   "metadata": {},
   "outputs": [],
   "source": [
    "driver.get('https://qa.annotations.attentive.ai/management/layers')"
   ]
  },
  {
   "cell_type": "code",
   "execution_count": 21,
   "metadata": {},
   "outputs": [
    {
     "name": "stdout",
     "output_type": "stream",
     "text": [
      "Selected layer Type:testing-layer\n"
     ]
    }
   ],
   "source": [
    "## Add and Delete Source Type ...\n",
    "source_type_name = \"testing-layer\"\n",
    "print(f\"Selected layer Type:{source_type_name}\")"
   ]
  },
  {
   "cell_type": "code",
   "execution_count": 22,
   "metadata": {},
   "outputs": [
    {
     "name": "stdout",
     "output_type": "stream",
     "text": [
      "Add Source Type PopUp opens\n",
      "New Layer Created..\n"
     ]
    }
   ],
   "source": [
    "time.sleep(1)\n",
    "# Open Add source type popup\n",
    "add_layer = driver.find_element(By.XPATH,'//span[text()=\"Add Layers\"]/..')\n",
    "add_layer.click()\n",
    "print(\"Add Source Type PopUp opens\")\n",
    "# Enter the Source name and Click Submit..\n",
    "enter_source_name = driver.find_element(By.XPATH,'//input[@placeholder=\"Enter name...\"]')\n",
    "time.sleep(1)\n",
    "enter_source_name.click()\n",
    "enter_source_name.send_keys(f'{source_type_name}')\n",
    "\n",
    "submit_button = driver.find_element(By.XPATH,'//span[text()=\"Submit\"]')\n",
    "submit_button.click()\n",
    "\n",
    "print(\"New Layer Created..\")\n"
   ]
  },
  {
   "attachments": {},
   "cell_type": "markdown",
   "metadata": {},
   "source": [
    "**Adding Again same Layer name error check**"
   ]
  },
  {
   "cell_type": "code",
   "execution_count": 23,
   "metadata": {},
   "outputs": [
    {
     "name": "stdout",
     "output_type": "stream",
     "text": [
      "Toast Message --> Layer Type with this Layer Type already exists.\n",
      "Toast Message Appears\n"
     ]
    }
   ],
   "source": [
    "driver.refresh()\n",
    "time.sleep(1)\n",
    "# Open Layer Pop Up\n",
    "add_layer = driver.find_element(By.XPATH,'//span[text()=\"Add Layers\"]/..')\n",
    "time.sleep(1)\n",
    "add_layer.click()\n",
    "\n",
    "# Repeating with same source type.. to check if same source type is allowed or not..\n",
    "\n",
    "enter_source_name = driver.find_element(By.XPATH,'//input[@placeholder=\"Enter name...\"]')\n",
    "time.sleep(1)\n",
    "enter_source_name.click()\n",
    "enter_source_name.send_keys(f'{source_type_name}')\n",
    "\n",
    "submit_button = driver.find_element(By.XPATH,'//span[text()=\"Submit\"]')\n",
    "time.sleep(1)\n",
    "submit_button.click()\n",
    "time.sleep(1)\n",
    "\n",
    "try:\n",
    "    toast_msg = driver.find_element(By.XPATH,'//span[text()=\"Layer Type with this Layer Type already exists.\"]')\n",
    "    print(\"Toast Message --> Layer Type with this Layer Type already exists.\")\n",
    "    print(\"Toast Message Appears\")\n",
    "except:\n",
    "    print(\"Toast Message is not coming..\")\n",
    "    print(\"Toast Message Not Shown.. Error\")\n"
   ]
  },
  {
   "attachments": {},
   "cell_type": "markdown",
   "metadata": {},
   "source": [
    "**Edit Layer**"
   ]
  },
  {
   "cell_type": "code",
   "execution_count": 24,
   "metadata": {},
   "outputs": [
    {
     "name": "stdout",
     "output_type": "stream",
     "text": [
      "testing-layer present as the initial value displayed\n",
      "Layer Name changed..\n"
     ]
    }
   ],
   "source": [
    "time.sleep(1)\n",
    "edit_layer_name = driver.find_element(By.XPATH,f'//td[text()=\"{source_type_name}\"]/../td[2]/div/button[1]') # edit button\n",
    "time.sleep(1)\n",
    "edit_layer_name.click()\n",
    "\n",
    "# Dialog box must open, layer name must exist\n",
    "type_in = driver.find_element(By.XPATH,f'//input[@value=\"{source_type_name}\"]')\n",
    "print(f\"{source_type_name} present as the initial value displayed\")\n",
    "time.sleep(1)\n",
    "type_in.click()\n",
    "type_in.send_keys(\"Layer Name Change test\")\n",
    "\n",
    "click_save_button = driver.find_element(By.XPATH,'//span[text()=\"Save\"]/..')\n",
    "time.sleep(2)\n",
    "click_save_button.click()\n",
    "print(\"Layer Name changed..\")\n",
    "driver.refresh()"
   ]
  },
  {
   "attachments": {},
   "cell_type": "markdown",
   "metadata": {},
   "source": [
    "**Delete Testing**"
   ]
  },
  {
   "cell_type": "code",
   "execution_count": 25,
   "metadata": {},
   "outputs": [
    {
     "name": "stdout",
     "output_type": "stream",
     "text": [
      "Take Me Back Working\n"
     ]
    }
   ],
   "source": [
    "# Delete Source Type (Take Me Back)\n",
    "time.sleep(2)\n",
    "delete_layer_name = driver.find_element(By.XPATH,f'//td[text()=\"{source_type_name}\"]/../td[2]/div/button[2]') # delete button\n",
    "time.sleep(1)\n",
    "delete_layer_name.click()\n",
    "\n",
    "# Dialog box must open\n",
    "type_in = driver.find_element(By.XPATH,'//small[text()=\"Type exactly the same name with same case & spacing.\"]/../input')\n",
    "time.sleep(1)\n",
    "type_in.click()\n",
    "type_in.send_keys(source_type_name)\n",
    "\n",
    "click_delete_button = driver.find_element(By.XPATH,'//span[text()=\"Take me back\"]/..')\n",
    "time.sleep(2)\n",
    "click_delete_button.click()\n",
    "print(\"Take Me Back Working\")"
   ]
  },
  {
   "cell_type": "code",
   "execution_count": 26,
   "metadata": {},
   "outputs": [
    {
     "name": "stdout",
     "output_type": "stream",
     "text": [
      "Toast Message --> Please type the exact name.\n",
      "Writing Wrong Name Tested\n"
     ]
    }
   ],
   "source": [
    "# Delete Source Type(writing wrong name)\n",
    "time.sleep(1)\n",
    "delete_source_name = driver.find_element(By.XPATH,f'//td[text()=\"{source_type_name}\"]/../td[2]/div/button[2]') # delete button\n",
    "time.sleep(1)\n",
    "delete_source_name.click()\n",
    "\n",
    "# Dialog box must open\n",
    "type_in = driver.find_element(By.XPATH,'//small[text()=\"Type exactly the same name with same case & spacing.\"]/../input')\n",
    "time.sleep(1)\n",
    "type_in.click()\n",
    "type_in.send_keys(\"Wrong Data\")\n",
    "time.sleep(2)\n",
    "\n",
    "click_delete_button = driver.find_element(By.XPATH,'//span[text()=\"Delete Layer Type\"]/..')\n",
    "time.sleep(1)\n",
    "click_delete_button.click()\n",
    "time.sleep(1)\n",
    "\n",
    "try:\n",
    "    toast_msg = driver.find_element(By.XPATH,'//span[text()=\"Please type the exact name.\"]')\n",
    "    print(\"Toast Message --> Please type the exact name.\")\n",
    "    print(\"Writing Wrong Name Tested\")\n",
    "except:\n",
    "    print(\"Toast Message is not coming..\")\n",
    "\n",
    "# Close the Pop Up\n",
    "close_button = driver.find_element(By.XPATH,f'//div[text()=\"Delete {source_type_name}?\"]/../../button/span/span')\n",
    "close_button.click()"
   ]
  },
  {
   "cell_type": "code",
   "execution_count": 27,
   "metadata": {},
   "outputs": [
    {
     "name": "stdout",
     "output_type": "stream",
     "text": [
      "Successful Deletion of Source Type\n"
     ]
    }
   ],
   "source": [
    "# Delete a Source Type (Successful one..)\n",
    "time.sleep(2)\n",
    "delete_source_name = driver.find_element(By.XPATH,f'//td[text()=\"{source_type_name}\"]/../td[2]/div/button[2]') # delete button\n",
    "time.sleep(1)\n",
    "delete_source_name.click()\n",
    "\n",
    "# Dialog box must open\n",
    "type_in = driver.find_element(By.XPATH,'//small[text()=\"Type exactly the same name with same case & spacing.\"]/../input')\n",
    "time.sleep(1)\n",
    "type_in.click()\n",
    "type_in.send_keys(source_type_name)\n",
    "\n",
    "click_delete_button = driver.find_element(By.XPATH,'//span[text()=\"Delete Layer Type\"]/..')\n",
    "time.sleep(1)\n",
    "click_delete_button.click()\n",
    "\n",
    "print(\"Successful Deletion of Source Type\")"
   ]
  },
  {
   "cell_type": "code",
   "execution_count": 28,
   "metadata": {},
   "outputs": [],
   "source": [
    "# Close Browser\n",
    "driver.quit()"
   ]
  },
  {
   "cell_type": "code",
   "execution_count": null,
   "metadata": {},
   "outputs": [],
   "source": []
  }
 ],
 "metadata": {
  "kernelspec": {
   "display_name": "env",
   "language": "python",
   "name": "python3"
  },
  "language_info": {
   "codemirror_mode": {
    "name": "ipython",
    "version": 3
   },
   "file_extension": ".py",
   "mimetype": "text/x-python",
   "name": "python",
   "nbconvert_exporter": "python",
   "pygments_lexer": "ipython3",
   "version": "3.11.3"
  },
  "orig_nbformat": 4
 },
 "nbformat": 4,
 "nbformat_minor": 2
}
