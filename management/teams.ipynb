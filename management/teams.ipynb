{
 "cells": [
  {
   "cell_type": "code",
   "execution_count": 251,
   "metadata": {},
   "outputs": [],
   "source": [
    "import time\n",
    "from selenium import webdriver\n",
    "from selenium.webdriver.common.keys import Keys\n",
    "from selenium.webdriver.common.by import By\n",
    "from selenium.webdriver.common.action_chains import ActionChains\n",
    "from selenium.webdriver.support.ui import WebDriverWait\n",
    "from selenium.webdriver.support import expected_conditions as EC\n",
    "import pyautogui, sys\n",
    "import mouse\n",
    "import requests\n",
    "import keyboard"
   ]
  },
  {
   "cell_type": "code",
   "execution_count": 228,
   "metadata": {},
   "outputs": [],
   "source": [
    "time.sleep(2)"
   ]
  },
  {
   "cell_type": "code",
   "execution_count": 229,
   "metadata": {},
   "outputs": [],
   "source": [
    "# Open Browser\n",
    "driver = webdriver.Chrome()\n",
    "driver.maximize_window()\n",
    "driver.get(\"https://qa.annotations.attentive.ai\")"
   ]
  },
  {
   "cell_type": "code",
   "execution_count": 230,
   "metadata": {},
   "outputs": [
    {
     "name": "stdout",
     "output_type": "stream",
     "text": [
      "User logged In Successfully!\n"
     ]
    }
   ],
   "source": [
    "# Login annotations \n",
    "email = driver.find_element(By.XPATH,'/html/body/div/div/section/div/div[2]/div/div/form/input')\n",
    "email.click()\n",
    "email.send_keys('raghav.narula@attentive.ai')\n",
    "\n",
    "pwd = driver.find_element(By.XPATH,'/html/body/div/div/section/div/div[2]/div/div/form/span/input')\n",
    "pwd.click()\n",
    "pwd.send_keys('Password!123')\n",
    "\n",
    "driver.find_element(By.XPATH,'/html/body/div/div/section/div/div[2]/div/div/form/button').click()\n",
    "\n",
    "print(\"User logged In Successfully!\")"
   ]
  },
  {
   "cell_type": "code",
   "execution_count": 231,
   "metadata": {},
   "outputs": [],
   "source": [
    "time.sleep(2)   "
   ]
  },
  {
   "cell_type": "code",
   "execution_count": 232,
   "metadata": {},
   "outputs": [],
   "source": [
    "driver.get('https://qa.annotations.attentive.ai/management/team')"
   ]
  },
  {
   "cell_type": "code",
   "execution_count": 233,
   "metadata": {},
   "outputs": [],
   "source": [
    "# Add Team\n",
    "add_team_name = \"testing-team-raghavN\""
   ]
  },
  {
   "cell_type": "code",
   "execution_count": 245,
   "metadata": {},
   "outputs": [
    {
     "name": "stdout",
     "output_type": "stream",
     "text": [
      "Add Team Popup Opens\n"
     ]
    }
   ],
   "source": [
    "time.sleep(1)\n",
    "add_team_button = driver.find_element(By.XPATH,'//span[text()=\"Add Team\"]/..')\n",
    "add_team_button.click()\n",
    "print(\"Add Team Popup Opens\")"
   ]
  },
  {
   "cell_type": "code",
   "execution_count": 263,
   "metadata": {},
   "outputs": [],
   "source": [
    "# Fill in the details\n",
    "\n",
    "# Enter Name\n",
    "time.sleep(1)\n",
    "try:\n",
    "    enter_name = driver.find_element(By.XPATH,'//div[@class=\"ant-modal-body\"]/form/input')\n",
    "except:\n",
    "    enter_name = driver.find_element(By.XPATH,'//div[@class=\"ant-modal-body\"]/input')\n",
    "\n",
    "# enter_name = drier.find_element(By.XPATH,'//div')\n",
    "\n",
    "enter_name.send_keys(add_team_name)\n",
    "\n",
    "\n",
    "# Select Users\n",
    "try:\n",
    "    select_users = driver.find_element(By.XPATH,'//div[@class=\"ant-modal-body\"]/form/div[1]')\n",
    "except:\n",
    "    select_users = driver.find_element(By.XPATH,'//div[@class=\"ant-modal-body\"]/div[1]')\n",
    "\n",
    "\n",
    "select_users.click()\n",
    "\n",
    "no_of_users = 4\n",
    "\n",
    "[\"raghav.narula+2@attentive.ai\"]\n",
    "\n",
    "time.sleep(1)\n",
    "for i in range(no_of_users):\n",
    "    user = driver.find_element(By.XPATH,f'//div[@id=\"rc_select_1_list\"]/following-sibling::div/div/div/div/div[{i+1}]')\n",
    "    # user = WebDriverWait(driver, 5).until(EC.element_to_be_clickable((By.XPATH,f'//div[@id=\"rc_select_2_list\"]/following-sibling::div//div/div/div/div[{i+1}]/div'))) \n",
    "    user.click()\n",
    "    time.sleep(0.5)\n",
    "\n",
    "select_users.click()\n",
    "\n",
    "time.sleep(1)\n",
    "remove_user = driver.find_element(By.XPATH,'//div[@class=\"ant-select-selector\"]/div/div[2]/span[1]/span[2]')\n",
    "remove_user.click()\n",
    "    "
   ]
  },
  {
   "cell_type": "code",
   "execution_count": 268,
   "metadata": {},
   "outputs": [
    {
     "ename": "ImportError",
     "evalue": "You must be root to use this library on linux.",
     "output_type": "error",
     "traceback": [
      "\u001b[0;31m---------------------------------------------------------------------------\u001b[0m",
      "\u001b[0;31mImportError\u001b[0m                               Traceback (most recent call last)",
      "Cell \u001b[0;32mIn[268], line 1\u001b[0m\n\u001b[0;32m----> 1\u001b[0m keyboard\u001b[39m.\u001b[39;49mpress_and_release(\u001b[39m\"\u001b[39;49m\u001b[39menter\u001b[39;49m\u001b[39m\"\u001b[39;49m)\n",
      "File \u001b[0;32m~/Desktop/FX-automate/env/lib/python3.11/site-packages/keyboard/__init__.py:379\u001b[0m, in \u001b[0;36msend\u001b[0;34m(hotkey, do_press, do_release)\u001b[0m\n\u001b[1;32m    362\u001b[0m \u001b[39m\u001b[39m\u001b[39m\"\"\"\u001b[39;00m\n\u001b[1;32m    363\u001b[0m \u001b[39mSends OS events that perform the given *hotkey* hotkey.\u001b[39;00m\n\u001b[1;32m    364\u001b[0m \n\u001b[0;32m   (...)\u001b[0m\n\u001b[1;32m    375\u001b[0m \u001b[39mNote: keys are released in the opposite order they were pressed.\u001b[39;00m\n\u001b[1;32m    376\u001b[0m \u001b[39m\"\"\"\u001b[39;00m\n\u001b[1;32m    377\u001b[0m _listener\u001b[39m.\u001b[39mis_replaying \u001b[39m=\u001b[39m \u001b[39mTrue\u001b[39;00m\n\u001b[0;32m--> 379\u001b[0m parsed \u001b[39m=\u001b[39m parse_hotkey(hotkey)\n\u001b[1;32m    380\u001b[0m \u001b[39mfor\u001b[39;00m step \u001b[39min\u001b[39;00m parsed:\n\u001b[1;32m    381\u001b[0m     \u001b[39mif\u001b[39;00m do_press:\n",
      "File \u001b[0;32m~/Desktop/FX-automate/env/lib/python3.11/site-packages/keyboard/__init__.py:358\u001b[0m, in \u001b[0;36mparse_hotkey\u001b[0;34m(hotkey)\u001b[0m\n\u001b[1;32m    356\u001b[0m \u001b[39mfor\u001b[39;00m step \u001b[39min\u001b[39;00m _re\u001b[39m.\u001b[39msplit(\u001b[39mr\u001b[39m\u001b[39m'\u001b[39m\u001b[39m,\u001b[39m\u001b[39m\\\u001b[39m\u001b[39ms?\u001b[39m\u001b[39m'\u001b[39m, hotkey):\n\u001b[1;32m    357\u001b[0m     keys \u001b[39m=\u001b[39m _re\u001b[39m.\u001b[39msplit(\u001b[39mr\u001b[39m\u001b[39m'\u001b[39m\u001b[39m\\\u001b[39m\u001b[39ms?\u001b[39m\u001b[39m\\\u001b[39m\u001b[39m+\u001b[39m\u001b[39m\\\u001b[39m\u001b[39ms?\u001b[39m\u001b[39m'\u001b[39m, step)\n\u001b[0;32m--> 358\u001b[0m     steps\u001b[39m.\u001b[39mappend(\u001b[39mtuple\u001b[39;49m(key_to_scan_codes(key) \u001b[39mfor\u001b[39;49;00m key \u001b[39min\u001b[39;49;00m keys))\n\u001b[1;32m    359\u001b[0m \u001b[39mreturn\u001b[39;00m \u001b[39mtuple\u001b[39m(steps)\n",
      "File \u001b[0;32m~/Desktop/FX-automate/env/lib/python3.11/site-packages/keyboard/__init__.py:358\u001b[0m, in \u001b[0;36m<genexpr>\u001b[0;34m(.0)\u001b[0m\n\u001b[1;32m    356\u001b[0m \u001b[39mfor\u001b[39;00m step \u001b[39min\u001b[39;00m _re\u001b[39m.\u001b[39msplit(\u001b[39mr\u001b[39m\u001b[39m'\u001b[39m\u001b[39m,\u001b[39m\u001b[39m\\\u001b[39m\u001b[39ms?\u001b[39m\u001b[39m'\u001b[39m, hotkey):\n\u001b[1;32m    357\u001b[0m     keys \u001b[39m=\u001b[39m _re\u001b[39m.\u001b[39msplit(\u001b[39mr\u001b[39m\u001b[39m'\u001b[39m\u001b[39m\\\u001b[39m\u001b[39ms?\u001b[39m\u001b[39m\\\u001b[39m\u001b[39m+\u001b[39m\u001b[39m\\\u001b[39m\u001b[39ms?\u001b[39m\u001b[39m'\u001b[39m, step)\n\u001b[0;32m--> 358\u001b[0m     steps\u001b[39m.\u001b[39mappend(\u001b[39mtuple\u001b[39m(key_to_scan_codes(key) \u001b[39mfor\u001b[39;00m key \u001b[39min\u001b[39;00m keys))\n\u001b[1;32m    359\u001b[0m \u001b[39mreturn\u001b[39;00m \u001b[39mtuple\u001b[39m(steps)\n",
      "File \u001b[0;32m~/Desktop/FX-automate/env/lib/python3.11/site-packages/keyboard/__init__.py:317\u001b[0m, in \u001b[0;36mkey_to_scan_codes\u001b[0;34m(key, error_if_missing)\u001b[0m\n\u001b[1;32m    313\u001b[0m     \u001b[39mreturn\u001b[39;00m left_scan_codes \u001b[39m+\u001b[39m \u001b[39mtuple\u001b[39m(c \u001b[39mfor\u001b[39;00m c \u001b[39min\u001b[39;00m right_scan_codes \u001b[39mif\u001b[39;00m c \u001b[39mnot\u001b[39;00m \u001b[39min\u001b[39;00m left_scan_codes)\n\u001b[1;32m    315\u001b[0m \u001b[39mtry\u001b[39;00m:\n\u001b[1;32m    316\u001b[0m     \u001b[39m# Put items in ordered dict to remove duplicates.\u001b[39;00m\n\u001b[0;32m--> 317\u001b[0m     t \u001b[39m=\u001b[39m \u001b[39mtuple\u001b[39m(_collections\u001b[39m.\u001b[39;49mOrderedDict((scan_code, \u001b[39mTrue\u001b[39;49;00m) \u001b[39mfor\u001b[39;49;00m scan_code, modifier \u001b[39min\u001b[39;49;00m _os_keyboard\u001b[39m.\u001b[39;49mmap_name(normalized)))\n\u001b[1;32m    318\u001b[0m     e \u001b[39m=\u001b[39m \u001b[39mNone\u001b[39;00m\n\u001b[1;32m    319\u001b[0m \u001b[39mexcept\u001b[39;00m (\u001b[39mKeyError\u001b[39;00m, \u001b[39mValueError\u001b[39;00m) \u001b[39mas\u001b[39;00m exception:\n",
      "File \u001b[0;32m~/Desktop/FX-automate/env/lib/python3.11/site-packages/keyboard/__init__.py:317\u001b[0m, in \u001b[0;36m<genexpr>\u001b[0;34m(.0)\u001b[0m\n\u001b[1;32m    313\u001b[0m     \u001b[39mreturn\u001b[39;00m left_scan_codes \u001b[39m+\u001b[39m \u001b[39mtuple\u001b[39m(c \u001b[39mfor\u001b[39;00m c \u001b[39min\u001b[39;00m right_scan_codes \u001b[39mif\u001b[39;00m c \u001b[39mnot\u001b[39;00m \u001b[39min\u001b[39;00m left_scan_codes)\n\u001b[1;32m    315\u001b[0m \u001b[39mtry\u001b[39;00m:\n\u001b[1;32m    316\u001b[0m     \u001b[39m# Put items in ordered dict to remove duplicates.\u001b[39;00m\n\u001b[0;32m--> 317\u001b[0m     t \u001b[39m=\u001b[39m \u001b[39mtuple\u001b[39m(_collections\u001b[39m.\u001b[39mOrderedDict((scan_code, \u001b[39mTrue\u001b[39;00m) \u001b[39mfor\u001b[39;00m scan_code, modifier \u001b[39min\u001b[39;00m _os_keyboard\u001b[39m.\u001b[39mmap_name(normalized)))\n\u001b[1;32m    318\u001b[0m     e \u001b[39m=\u001b[39m \u001b[39mNone\u001b[39;00m\n\u001b[1;32m    319\u001b[0m \u001b[39mexcept\u001b[39;00m (\u001b[39mKeyError\u001b[39;00m, \u001b[39mValueError\u001b[39;00m) \u001b[39mas\u001b[39;00m exception:\n",
      "File \u001b[0;32m~/Desktop/FX-automate/env/lib/python3.11/site-packages/keyboard/_nixkeyboard.py:148\u001b[0m, in \u001b[0;36mmap_name\u001b[0;34m(name)\u001b[0m\n\u001b[1;32m    147\u001b[0m \u001b[39mdef\u001b[39;00m \u001b[39mmap_name\u001b[39m(name):\n\u001b[0;32m--> 148\u001b[0m     build_tables()\n\u001b[1;32m    149\u001b[0m     \u001b[39mfor\u001b[39;00m entry \u001b[39min\u001b[39;00m from_name[name]:\n\u001b[1;32m    150\u001b[0m         \u001b[39myield\u001b[39;00m entry\n",
      "File \u001b[0;32m~/Desktop/FX-automate/env/lib/python3.11/site-packages/keyboard/_nixkeyboard.py:64\u001b[0m, in \u001b[0;36mbuild_tables\u001b[0;34m()\u001b[0m\n\u001b[1;32m     62\u001b[0m \u001b[39mdef\u001b[39;00m \u001b[39mbuild_tables\u001b[39m():\n\u001b[1;32m     63\u001b[0m     \u001b[39mif\u001b[39;00m to_name \u001b[39mand\u001b[39;00m from_name: \u001b[39mreturn\u001b[39;00m\n\u001b[0;32m---> 64\u001b[0m     ensure_root()\n\u001b[1;32m     66\u001b[0m     modifiers_bits \u001b[39m=\u001b[39m {\n\u001b[1;32m     67\u001b[0m         \u001b[39m'\u001b[39m\u001b[39mshift\u001b[39m\u001b[39m'\u001b[39m: \u001b[39m1\u001b[39m,\n\u001b[1;32m     68\u001b[0m         \u001b[39m'\u001b[39m\u001b[39malt gr\u001b[39m\u001b[39m'\u001b[39m: \u001b[39m2\u001b[39m,\n\u001b[1;32m     69\u001b[0m         \u001b[39m'\u001b[39m\u001b[39mctrl\u001b[39m\u001b[39m'\u001b[39m: \u001b[39m4\u001b[39m,\n\u001b[1;32m     70\u001b[0m         \u001b[39m'\u001b[39m\u001b[39malt\u001b[39m\u001b[39m'\u001b[39m: \u001b[39m8\u001b[39m,\n\u001b[1;32m     71\u001b[0m     }\n\u001b[1;32m     72\u001b[0m     keycode_template \u001b[39m=\u001b[39m \u001b[39mr\u001b[39m\u001b[39m'\u001b[39m\u001b[39m^keycode\u001b[39m\u001b[39m\\\u001b[39m\u001b[39ms+(\u001b[39m\u001b[39m\\\u001b[39m\u001b[39md+)\u001b[39m\u001b[39m\\\u001b[39m\u001b[39ms+=(.*?)$\u001b[39m\u001b[39m'\u001b[39m\n",
      "File \u001b[0;32m~/Desktop/FX-automate/env/lib/python3.11/site-packages/keyboard/_nixcommon.py:174\u001b[0m, in \u001b[0;36mensure_root\u001b[0;34m()\u001b[0m\n\u001b[1;32m    172\u001b[0m \u001b[39mdef\u001b[39;00m \u001b[39mensure_root\u001b[39m():\n\u001b[1;32m    173\u001b[0m     \u001b[39mif\u001b[39;00m os\u001b[39m.\u001b[39mgeteuid() \u001b[39m!=\u001b[39m \u001b[39m0\u001b[39m:\n\u001b[0;32m--> 174\u001b[0m         \u001b[39mraise\u001b[39;00m \u001b[39mImportError\u001b[39;00m(\u001b[39m'\u001b[39m\u001b[39mYou must be root to use this library on linux.\u001b[39m\u001b[39m'\u001b[39m)\n",
      "\u001b[0;31mImportError\u001b[0m: You must be root to use this library on linux."
     ]
    }
   ],
   "source": [
    "(\"enter\")"
   ]
  },
  {
   "cell_type": "code",
   "execution_count": 264,
   "metadata": {},
   "outputs": [],
   "source": [
    "# Select Source Type\n",
    "\n",
    "try:\n",
    "    select_source_type = driver.find_element(By.XPATH,'//div[@class=\"ant-modal-body\"]/form/div[2]')\n",
    "\n",
    "except:\n",
    "    select_source_type = driver.find_element(By.XPATH,'//div[@class=\"ant-modal-body\"]/div[2]') \n",
    "    \n",
    "select_source_type.click()\n",
    "\n",
    "source_type = \"fms\"\n",
    "a = WebDriverWait(driver, 20).until(EC.element_to_be_clickable((By.XPATH, f'//div[text()=\"{source_type}\" and @class=\"ant-select-item-option-content\"]')))\n",
    "\n",
    "a.click()"
   ]
  },
  {
   "cell_type": "code",
   "execution_count": 265,
   "metadata": {},
   "outputs": [],
   "source": [
    "# Select Layer Group\n",
    "\n",
    "try:\n",
    "    select_source_type = driver.find_element(By.XPATH,'//div[@class=\"ant-modal-body\"]/form/div[3]')\n",
    "\n",
    "except:\n",
    "    select_source_type = driver.find_element(By.XPATH,'//div[@class=\"ant-modal-body\"]/div[3]')\n",
    "   \n",
    "select_source_type.click()\n",
    "\n",
    "layer_number = \"158\"\n",
    "a = WebDriverWait(driver, 20).until(EC.element_to_be_clickable((By.XPATH, f'//div[text()=\"{layer_number}\" and @class=\"ant-select-item-option-content\"]')))\n",
    "a.click()"
   ]
  },
  {
   "cell_type": "code",
   "execution_count": 266,
   "metadata": {},
   "outputs": [],
   "source": [
    "# Submit Button\n",
    "submit_btn = driver.find_element(By.XPATH,'//span[text()=\"Submit\"]')\n",
    "submit_btn.click()"
   ]
  },
  {
   "cell_type": "code",
   "execution_count": null,
   "metadata": {},
   "outputs": [
    {
     "name": "stdout",
     "output_type": "stream",
     "text": [
      "Add Team Successfully working\n"
     ]
    }
   ],
   "source": [
    "print(\"Add Team Successfully working\")\n",
    "time.sleep(2)"
   ]
  },
  {
   "cell_type": "code",
   "execution_count": 267,
   "metadata": {},
   "outputs": [],
   "source": [
    "# Check filter by Souce Type\n",
    "element = WebDriverWait(driver, 3).until(EC.element_to_be_clickable((By.XPATH, '//span[text()=\"Filter by source type..\"]/../..')))\n",
    "element.click()\n",
    "time.sleep(1)\n",
    "# driver.execute_script(\"arguments[0].click();\",element)\n",
    "element = driver.find_element(By.XPATH,'//div[@class=\"ant-select-dropdown ant-select-dropdown-placement-bottomLeft \"]/div/div/div/div/div/div[@title=\"fms\"]')\n",
    "element.click()\n",
    "\n",
    "# Remove filter\n"
   ]
  },
  {
   "cell_type": "code",
   "execution_count": null,
   "metadata": {},
   "outputs": [
    {
     "name": "stdout",
     "output_type": "stream",
     "text": [
      "Priority Checking Clicked... and Working\n"
     ]
    }
   ],
   "source": [
    "# Priority Check and Table check\n",
    "table = driver.find_element(By.XPATH,\"//tbody/tr[1]/td[5]/span/span/span/label/span\")\n",
    "table.click()\n",
    "time.sleep(3)\n",
    "table.click()\n",
    "\n",
    "print(\"Priority Checking Clicked... and Working\")"
   ]
  },
  {
   "cell_type": "code",
   "execution_count": 270,
   "metadata": {},
   "outputs": [
    {
     "ename": "ElementNotInteractableException",
     "evalue": "Message: element not interactable\n  (Session info: chrome=113.0.5672.92)\nStacktrace:\n#0 0x56334157c133 <unknown>\n#1 0x5633412b07f0 <unknown>\n#2 0x5633412ee524 <unknown>\n#3 0x5633412e33ea <unknown>\n#4 0x56334130cbd2 <unknown>\n#5 0x5633412e2d13 <unknown>\n#6 0x56334130cd9e <unknown>\n#7 0x5633413251c7 <unknown>\n#8 0x56334130c9a3 <unknown>\n#9 0x5633412e146a <unknown>\n#10 0x5633412e255e <unknown>\n#11 0x56334153bcae <unknown>\n#12 0x56334153f8fe <unknown>\n#13 0x563341548f20 <unknown>\n#14 0x563341540923 <unknown>\n#15 0x563341513c0e <unknown>\n#16 0x563341563b08 <unknown>\n#17 0x563341563c97 <unknown>\n#18 0x563341574113 <unknown>\n#19 0x7efe0b527609 start_thread\n",
     "output_type": "error",
     "traceback": [
      "\u001b[0;31m---------------------------------------------------------------------------\u001b[0m",
      "\u001b[0;31mElementNotInteractableException\u001b[0m           Traceback (most recent call last)",
      "Cell \u001b[0;32mIn[270], line 11\u001b[0m\n\u001b[1;32m      8\u001b[0m element\u001b[39m.\u001b[39msend_keys(\u001b[39m'\u001b[39m\u001b[39m/home/nl23/Desktop/hello.csv\u001b[39m\u001b[39m'\u001b[39m)\n\u001b[1;32m     10\u001b[0m element \u001b[39m=\u001b[39m driver\u001b[39m.\u001b[39mfind_element(By\u001b[39m.\u001b[39mXPATH,\u001b[39m'\u001b[39m\u001b[39m//div[@class=\u001b[39m\u001b[39m\"\u001b[39m\u001b[39mant-modal-footer\u001b[39m\u001b[39m\"\u001b[39m\u001b[39m]/button[2]\u001b[39m\u001b[39m'\u001b[39m)\n\u001b[0;32m---> 11\u001b[0m element\u001b[39m.\u001b[39;49mclick()\n",
      "File \u001b[0;32m~/Desktop/FX-automate/env/lib/python3.11/site-packages/selenium/webdriver/remote/webelement.py:94\u001b[0m, in \u001b[0;36mWebElement.click\u001b[0;34m(self)\u001b[0m\n\u001b[1;32m     92\u001b[0m \u001b[39mdef\u001b[39;00m \u001b[39mclick\u001b[39m(\u001b[39mself\u001b[39m) \u001b[39m-\u001b[39m\u001b[39m>\u001b[39m \u001b[39mNone\u001b[39;00m:\n\u001b[1;32m     93\u001b[0m \u001b[39m    \u001b[39m\u001b[39m\"\"\"Clicks the element.\"\"\"\u001b[39;00m\n\u001b[0;32m---> 94\u001b[0m     \u001b[39mself\u001b[39;49m\u001b[39m.\u001b[39;49m_execute(Command\u001b[39m.\u001b[39;49mCLICK_ELEMENT)\n",
      "File \u001b[0;32m~/Desktop/FX-automate/env/lib/python3.11/site-packages/selenium/webdriver/remote/webelement.py:403\u001b[0m, in \u001b[0;36mWebElement._execute\u001b[0;34m(self, command, params)\u001b[0m\n\u001b[1;32m    401\u001b[0m     params \u001b[39m=\u001b[39m {}\n\u001b[1;32m    402\u001b[0m params[\u001b[39m\"\u001b[39m\u001b[39mid\u001b[39m\u001b[39m\"\u001b[39m] \u001b[39m=\u001b[39m \u001b[39mself\u001b[39m\u001b[39m.\u001b[39m_id\n\u001b[0;32m--> 403\u001b[0m \u001b[39mreturn\u001b[39;00m \u001b[39mself\u001b[39;49m\u001b[39m.\u001b[39;49m_parent\u001b[39m.\u001b[39;49mexecute(command, params)\n",
      "File \u001b[0;32m~/Desktop/FX-automate/env/lib/python3.11/site-packages/selenium/webdriver/remote/webdriver.py:440\u001b[0m, in \u001b[0;36mWebDriver.execute\u001b[0;34m(self, driver_command, params)\u001b[0m\n\u001b[1;32m    438\u001b[0m response \u001b[39m=\u001b[39m \u001b[39mself\u001b[39m\u001b[39m.\u001b[39mcommand_executor\u001b[39m.\u001b[39mexecute(driver_command, params)\n\u001b[1;32m    439\u001b[0m \u001b[39mif\u001b[39;00m response:\n\u001b[0;32m--> 440\u001b[0m     \u001b[39mself\u001b[39;49m\u001b[39m.\u001b[39;49merror_handler\u001b[39m.\u001b[39;49mcheck_response(response)\n\u001b[1;32m    441\u001b[0m     response[\u001b[39m\"\u001b[39m\u001b[39mvalue\u001b[39m\u001b[39m\"\u001b[39m] \u001b[39m=\u001b[39m \u001b[39mself\u001b[39m\u001b[39m.\u001b[39m_unwrap_value(response\u001b[39m.\u001b[39mget(\u001b[39m\"\u001b[39m\u001b[39mvalue\u001b[39m\u001b[39m\"\u001b[39m, \u001b[39mNone\u001b[39;00m))\n\u001b[1;32m    442\u001b[0m     \u001b[39mreturn\u001b[39;00m response\n",
      "File \u001b[0;32m~/Desktop/FX-automate/env/lib/python3.11/site-packages/selenium/webdriver/remote/errorhandler.py:245\u001b[0m, in \u001b[0;36mErrorHandler.check_response\u001b[0;34m(self, response)\u001b[0m\n\u001b[1;32m    243\u001b[0m         alert_text \u001b[39m=\u001b[39m value[\u001b[39m\"\u001b[39m\u001b[39malert\u001b[39m\u001b[39m\"\u001b[39m]\u001b[39m.\u001b[39mget(\u001b[39m\"\u001b[39m\u001b[39mtext\u001b[39m\u001b[39m\"\u001b[39m)\n\u001b[1;32m    244\u001b[0m     \u001b[39mraise\u001b[39;00m exception_class(message, screen, stacktrace, alert_text)  \u001b[39m# type: ignore[call-arg]  # mypy is not smart enough here\u001b[39;00m\n\u001b[0;32m--> 245\u001b[0m \u001b[39mraise\u001b[39;00m exception_class(message, screen, stacktrace)\n",
      "\u001b[0;31mElementNotInteractableException\u001b[0m: Message: element not interactable\n  (Session info: chrome=113.0.5672.92)\nStacktrace:\n#0 0x56334157c133 <unknown>\n#1 0x5633412b07f0 <unknown>\n#2 0x5633412ee524 <unknown>\n#3 0x5633412e33ea <unknown>\n#4 0x56334130cbd2 <unknown>\n#5 0x5633412e2d13 <unknown>\n#6 0x56334130cd9e <unknown>\n#7 0x5633413251c7 <unknown>\n#8 0x56334130c9a3 <unknown>\n#9 0x5633412e146a <unknown>\n#10 0x5633412e255e <unknown>\n#11 0x56334153bcae <unknown>\n#12 0x56334153f8fe <unknown>\n#13 0x563341548f20 <unknown>\n#14 0x563341540923 <unknown>\n#15 0x563341513c0e <unknown>\n#16 0x563341563b08 <unknown>\n#17 0x563341563c97 <unknown>\n#18 0x563341574113 <unknown>\n#19 0x7efe0b527609 start_thread\n"
     ]
    }
   ],
   "source": [
    "# Bulk User Upload\n",
    "\n",
    "# Wrong File Upload Tested...\n",
    "element = driver.find_element(By.XPATH,'//span[text()=\"Bulk User Upload\"]/..')\n",
    "element.click()\n",
    "\n",
    "element = driver.find_element(By.XPATH,'//input[@type=\"file\"]')\n",
    "element.send_keys('/home/nl23/Desktop/hello.csv')\n",
    "\n",
    "element = driver.find_element(By.XPATH,'//div[@class=\"ant-modal-footer\"]/button[2]')\n",
    "element.click()"
   ]
  },
  {
   "cell_type": "code",
   "execution_count": 271,
   "metadata": {},
   "outputs": [
    {
     "ename": "ElementClickInterceptedException",
     "evalue": "Message: element click intercepted: Element <button type=\"button\" class=\"ant-btn ant-btn-primary\" ant-click-animating-without-extra-node=\"false\">...</button> is not clickable at point (864, 137). Other element would receive the click: <div tabindex=\"-1\" class=\"ant-modal-wrap\" style=\"\">...</div>\n  (Session info: chrome=113.0.5672.92)\nStacktrace:\n#0 0x56334157c133 <unknown>\n#1 0x5633412b0966 <unknown>\n#2 0x5633412f33f2 <unknown>\n#3 0x5633412f15ac <unknown>\n#4 0x5633412ef3be <unknown>\n#5 0x5633412ee696 <unknown>\n#6 0x5633412e33ea <unknown>\n#7 0x56334130cbd2 <unknown>\n#8 0x5633412e2d13 <unknown>\n#9 0x56334130cd9e <unknown>\n#10 0x5633413251c7 <unknown>\n#11 0x56334130c9a3 <unknown>\n#12 0x5633412e146a <unknown>\n#13 0x5633412e255e <unknown>\n#14 0x56334153bcae <unknown>\n#15 0x56334153f8fe <unknown>\n#16 0x563341548f20 <unknown>\n#17 0x563341540923 <unknown>\n#18 0x563341513c0e <unknown>\n#19 0x563341563b08 <unknown>\n#20 0x563341563c97 <unknown>\n#21 0x563341574113 <unknown>\n#22 0x7efe0b527609 start_thread\n",
     "output_type": "error",
     "traceback": [
      "\u001b[0;31m---------------------------------------------------------------------------\u001b[0m",
      "\u001b[0;31mElementClickInterceptedException\u001b[0m          Traceback (most recent call last)",
      "Cell \u001b[0;32mIn[271], line 3\u001b[0m\n\u001b[1;32m      1\u001b[0m \u001b[39m#wrong File Upload\u001b[39;00m\n\u001b[1;32m      2\u001b[0m element \u001b[39m=\u001b[39m driver\u001b[39m.\u001b[39mfind_element(By\u001b[39m.\u001b[39mXPATH,\u001b[39m'\u001b[39m\u001b[39m//span[text()=\u001b[39m\u001b[39m\"\u001b[39m\u001b[39mBulk User Upload\u001b[39m\u001b[39m\"\u001b[39m\u001b[39m]/..\u001b[39m\u001b[39m'\u001b[39m)\n\u001b[0;32m----> 3\u001b[0m element\u001b[39m.\u001b[39;49mclick()\n\u001b[1;32m      5\u001b[0m element \u001b[39m=\u001b[39m driver\u001b[39m.\u001b[39mfind_element(By\u001b[39m.\u001b[39mXPATH,\u001b[39m'\u001b[39m\u001b[39m//input[@type=\u001b[39m\u001b[39m\"\u001b[39m\u001b[39mfile\u001b[39m\u001b[39m\"\u001b[39m\u001b[39m]\u001b[39m\u001b[39m'\u001b[39m)\n\u001b[1;32m      6\u001b[0m element\u001b[39m.\u001b[39msend_keys(\u001b[39m'\u001b[39m\u001b[39m/home/nl23/Desktop/hello.csv\u001b[39m\u001b[39m'\u001b[39m)\n",
      "File \u001b[0;32m~/Desktop/FX-automate/env/lib/python3.11/site-packages/selenium/webdriver/remote/webelement.py:94\u001b[0m, in \u001b[0;36mWebElement.click\u001b[0;34m(self)\u001b[0m\n\u001b[1;32m     92\u001b[0m \u001b[39mdef\u001b[39;00m \u001b[39mclick\u001b[39m(\u001b[39mself\u001b[39m) \u001b[39m-\u001b[39m\u001b[39m>\u001b[39m \u001b[39mNone\u001b[39;00m:\n\u001b[1;32m     93\u001b[0m \u001b[39m    \u001b[39m\u001b[39m\"\"\"Clicks the element.\"\"\"\u001b[39;00m\n\u001b[0;32m---> 94\u001b[0m     \u001b[39mself\u001b[39;49m\u001b[39m.\u001b[39;49m_execute(Command\u001b[39m.\u001b[39;49mCLICK_ELEMENT)\n",
      "File \u001b[0;32m~/Desktop/FX-automate/env/lib/python3.11/site-packages/selenium/webdriver/remote/webelement.py:403\u001b[0m, in \u001b[0;36mWebElement._execute\u001b[0;34m(self, command, params)\u001b[0m\n\u001b[1;32m    401\u001b[0m     params \u001b[39m=\u001b[39m {}\n\u001b[1;32m    402\u001b[0m params[\u001b[39m\"\u001b[39m\u001b[39mid\u001b[39m\u001b[39m\"\u001b[39m] \u001b[39m=\u001b[39m \u001b[39mself\u001b[39m\u001b[39m.\u001b[39m_id\n\u001b[0;32m--> 403\u001b[0m \u001b[39mreturn\u001b[39;00m \u001b[39mself\u001b[39;49m\u001b[39m.\u001b[39;49m_parent\u001b[39m.\u001b[39;49mexecute(command, params)\n",
      "File \u001b[0;32m~/Desktop/FX-automate/env/lib/python3.11/site-packages/selenium/webdriver/remote/webdriver.py:440\u001b[0m, in \u001b[0;36mWebDriver.execute\u001b[0;34m(self, driver_command, params)\u001b[0m\n\u001b[1;32m    438\u001b[0m response \u001b[39m=\u001b[39m \u001b[39mself\u001b[39m\u001b[39m.\u001b[39mcommand_executor\u001b[39m.\u001b[39mexecute(driver_command, params)\n\u001b[1;32m    439\u001b[0m \u001b[39mif\u001b[39;00m response:\n\u001b[0;32m--> 440\u001b[0m     \u001b[39mself\u001b[39;49m\u001b[39m.\u001b[39;49merror_handler\u001b[39m.\u001b[39;49mcheck_response(response)\n\u001b[1;32m    441\u001b[0m     response[\u001b[39m\"\u001b[39m\u001b[39mvalue\u001b[39m\u001b[39m\"\u001b[39m] \u001b[39m=\u001b[39m \u001b[39mself\u001b[39m\u001b[39m.\u001b[39m_unwrap_value(response\u001b[39m.\u001b[39mget(\u001b[39m\"\u001b[39m\u001b[39mvalue\u001b[39m\u001b[39m\"\u001b[39m, \u001b[39mNone\u001b[39;00m))\n\u001b[1;32m    442\u001b[0m     \u001b[39mreturn\u001b[39;00m response\n",
      "File \u001b[0;32m~/Desktop/FX-automate/env/lib/python3.11/site-packages/selenium/webdriver/remote/errorhandler.py:245\u001b[0m, in \u001b[0;36mErrorHandler.check_response\u001b[0;34m(self, response)\u001b[0m\n\u001b[1;32m    243\u001b[0m         alert_text \u001b[39m=\u001b[39m value[\u001b[39m\"\u001b[39m\u001b[39malert\u001b[39m\u001b[39m\"\u001b[39m]\u001b[39m.\u001b[39mget(\u001b[39m\"\u001b[39m\u001b[39mtext\u001b[39m\u001b[39m\"\u001b[39m)\n\u001b[1;32m    244\u001b[0m     \u001b[39mraise\u001b[39;00m exception_class(message, screen, stacktrace, alert_text)  \u001b[39m# type: ignore[call-arg]  # mypy is not smart enough here\u001b[39;00m\n\u001b[0;32m--> 245\u001b[0m \u001b[39mraise\u001b[39;00m exception_class(message, screen, stacktrace)\n",
      "\u001b[0;31mElementClickInterceptedException\u001b[0m: Message: element click intercepted: Element <button type=\"button\" class=\"ant-btn ant-btn-primary\" ant-click-animating-without-extra-node=\"false\">...</button> is not clickable at point (864, 137). Other element would receive the click: <div tabindex=\"-1\" class=\"ant-modal-wrap\" style=\"\">...</div>\n  (Session info: chrome=113.0.5672.92)\nStacktrace:\n#0 0x56334157c133 <unknown>\n#1 0x5633412b0966 <unknown>\n#2 0x5633412f33f2 <unknown>\n#3 0x5633412f15ac <unknown>\n#4 0x5633412ef3be <unknown>\n#5 0x5633412ee696 <unknown>\n#6 0x5633412e33ea <unknown>\n#7 0x56334130cbd2 <unknown>\n#8 0x5633412e2d13 <unknown>\n#9 0x56334130cd9e <unknown>\n#10 0x5633413251c7 <unknown>\n#11 0x56334130c9a3 <unknown>\n#12 0x5633412e146a <unknown>\n#13 0x5633412e255e <unknown>\n#14 0x56334153bcae <unknown>\n#15 0x56334153f8fe <unknown>\n#16 0x563341548f20 <unknown>\n#17 0x563341540923 <unknown>\n#18 0x563341513c0e <unknown>\n#19 0x563341563b08 <unknown>\n#20 0x563341563c97 <unknown>\n#21 0x563341574113 <unknown>\n#22 0x7efe0b527609 start_thread\n"
     ]
    }
   ],
   "source": [
    "#wrong File Upload\n",
    "element = driver.find_element(By.XPATH,'//span[text()=\"Bulk User Upload\"]/..')\n",
    "element.click()\n",
    "\n",
    "element = driver.find_element(By.XPATH,'//input[@type=\"file\"]')\n",
    "element.send_keys('/home/nl23/Desktop/hello.csv')\n",
    "\n",
    "element = driver.find_element(By.XPATH,'//div[@class=\"ant-modal-footer\"]/button[2]')\n",
    "element.click()"
   ]
  },
  {
   "cell_type": "code",
   "execution_count": 272,
   "metadata": {},
   "outputs": [
    {
     "ename": "ElementNotInteractableException",
     "evalue": "Message: element not interactable\n  (Session info: chrome=113.0.5672.92)\nStacktrace:\n#0 0x56334157c133 <unknown>\n#1 0x5633412b07f0 <unknown>\n#2 0x5633412ee524 <unknown>\n#3 0x5633412e33ea <unknown>\n#4 0x56334130cbd2 <unknown>\n#5 0x5633412e2d13 <unknown>\n#6 0x56334130cd9e <unknown>\n#7 0x5633413251c7 <unknown>\n#8 0x56334130c9a3 <unknown>\n#9 0x5633412e146a <unknown>\n#10 0x5633412e255e <unknown>\n#11 0x56334153bcae <unknown>\n#12 0x56334153f8fe <unknown>\n#13 0x563341548f20 <unknown>\n#14 0x563341540923 <unknown>\n#15 0x563341513c0e <unknown>\n#16 0x563341563b08 <unknown>\n#17 0x563341563c97 <unknown>\n#18 0x563341574113 <unknown>\n#19 0x7efe0b527609 start_thread\n",
     "output_type": "error",
     "traceback": [
      "\u001b[0;31m---------------------------------------------------------------------------\u001b[0m",
      "\u001b[0;31mElementNotInteractableException\u001b[0m           Traceback (most recent call last)",
      "Cell \u001b[0;32mIn[272], line 9\u001b[0m\n\u001b[1;32m      6\u001b[0m element\u001b[39m.\u001b[39msend_keys(\u001b[39m'\u001b[39m\u001b[39m/home/nl23/Desktop/bulk.csv\u001b[39m\u001b[39m'\u001b[39m)\n\u001b[1;32m      8\u001b[0m element \u001b[39m=\u001b[39m driver\u001b[39m.\u001b[39mfind_element(By\u001b[39m.\u001b[39mXPATH,\u001b[39m'\u001b[39m\u001b[39m//div[@class=\u001b[39m\u001b[39m\"\u001b[39m\u001b[39mant-modal-footer\u001b[39m\u001b[39m\"\u001b[39m\u001b[39m]/button[2]\u001b[39m\u001b[39m'\u001b[39m)\n\u001b[0;32m----> 9\u001b[0m element\u001b[39m.\u001b[39;49mclick()\n\u001b[1;32m     11\u001b[0m driver\u001b[39m.\u001b[39mrefresh()\n",
      "File \u001b[0;32m~/Desktop/FX-automate/env/lib/python3.11/site-packages/selenium/webdriver/remote/webelement.py:94\u001b[0m, in \u001b[0;36mWebElement.click\u001b[0;34m(self)\u001b[0m\n\u001b[1;32m     92\u001b[0m \u001b[39mdef\u001b[39;00m \u001b[39mclick\u001b[39m(\u001b[39mself\u001b[39m) \u001b[39m-\u001b[39m\u001b[39m>\u001b[39m \u001b[39mNone\u001b[39;00m:\n\u001b[1;32m     93\u001b[0m \u001b[39m    \u001b[39m\u001b[39m\"\"\"Clicks the element.\"\"\"\u001b[39;00m\n\u001b[0;32m---> 94\u001b[0m     \u001b[39mself\u001b[39;49m\u001b[39m.\u001b[39;49m_execute(Command\u001b[39m.\u001b[39;49mCLICK_ELEMENT)\n",
      "File \u001b[0;32m~/Desktop/FX-automate/env/lib/python3.11/site-packages/selenium/webdriver/remote/webelement.py:403\u001b[0m, in \u001b[0;36mWebElement._execute\u001b[0;34m(self, command, params)\u001b[0m\n\u001b[1;32m    401\u001b[0m     params \u001b[39m=\u001b[39m {}\n\u001b[1;32m    402\u001b[0m params[\u001b[39m\"\u001b[39m\u001b[39mid\u001b[39m\u001b[39m\"\u001b[39m] \u001b[39m=\u001b[39m \u001b[39mself\u001b[39m\u001b[39m.\u001b[39m_id\n\u001b[0;32m--> 403\u001b[0m \u001b[39mreturn\u001b[39;00m \u001b[39mself\u001b[39;49m\u001b[39m.\u001b[39;49m_parent\u001b[39m.\u001b[39;49mexecute(command, params)\n",
      "File \u001b[0;32m~/Desktop/FX-automate/env/lib/python3.11/site-packages/selenium/webdriver/remote/webdriver.py:440\u001b[0m, in \u001b[0;36mWebDriver.execute\u001b[0;34m(self, driver_command, params)\u001b[0m\n\u001b[1;32m    438\u001b[0m response \u001b[39m=\u001b[39m \u001b[39mself\u001b[39m\u001b[39m.\u001b[39mcommand_executor\u001b[39m.\u001b[39mexecute(driver_command, params)\n\u001b[1;32m    439\u001b[0m \u001b[39mif\u001b[39;00m response:\n\u001b[0;32m--> 440\u001b[0m     \u001b[39mself\u001b[39;49m\u001b[39m.\u001b[39;49merror_handler\u001b[39m.\u001b[39;49mcheck_response(response)\n\u001b[1;32m    441\u001b[0m     response[\u001b[39m\"\u001b[39m\u001b[39mvalue\u001b[39m\u001b[39m\"\u001b[39m] \u001b[39m=\u001b[39m \u001b[39mself\u001b[39m\u001b[39m.\u001b[39m_unwrap_value(response\u001b[39m.\u001b[39mget(\u001b[39m\"\u001b[39m\u001b[39mvalue\u001b[39m\u001b[39m\"\u001b[39m, \u001b[39mNone\u001b[39;00m))\n\u001b[1;32m    442\u001b[0m     \u001b[39mreturn\u001b[39;00m response\n",
      "File \u001b[0;32m~/Desktop/FX-automate/env/lib/python3.11/site-packages/selenium/webdriver/remote/errorhandler.py:245\u001b[0m, in \u001b[0;36mErrorHandler.check_response\u001b[0;34m(self, response)\u001b[0m\n\u001b[1;32m    243\u001b[0m         alert_text \u001b[39m=\u001b[39m value[\u001b[39m\"\u001b[39m\u001b[39malert\u001b[39m\u001b[39m\"\u001b[39m]\u001b[39m.\u001b[39mget(\u001b[39m\"\u001b[39m\u001b[39mtext\u001b[39m\u001b[39m\"\u001b[39m)\n\u001b[1;32m    244\u001b[0m     \u001b[39mraise\u001b[39;00m exception_class(message, screen, stacktrace, alert_text)  \u001b[39m# type: ignore[call-arg]  # mypy is not smart enough here\u001b[39;00m\n\u001b[0;32m--> 245\u001b[0m \u001b[39mraise\u001b[39;00m exception_class(message, screen, stacktrace)\n",
      "\u001b[0;31mElementNotInteractableException\u001b[0m: Message: element not interactable\n  (Session info: chrome=113.0.5672.92)\nStacktrace:\n#0 0x56334157c133 <unknown>\n#1 0x5633412b07f0 <unknown>\n#2 0x5633412ee524 <unknown>\n#3 0x5633412e33ea <unknown>\n#4 0x56334130cbd2 <unknown>\n#5 0x5633412e2d13 <unknown>\n#6 0x56334130cd9e <unknown>\n#7 0x5633413251c7 <unknown>\n#8 0x56334130c9a3 <unknown>\n#9 0x5633412e146a <unknown>\n#10 0x5633412e255e <unknown>\n#11 0x56334153bcae <unknown>\n#12 0x56334153f8fe <unknown>\n#13 0x563341548f20 <unknown>\n#14 0x563341540923 <unknown>\n#15 0x563341513c0e <unknown>\n#16 0x563341563b08 <unknown>\n#17 0x563341563c97 <unknown>\n#18 0x563341574113 <unknown>\n#19 0x7efe0b527609 start_thread\n"
     ]
    }
   ],
   "source": [
    "# Success file Upload\n",
    "element = driver.find_element(By.XPATH,'//span[text()=\"Bulk User Upload\"]/..')\n",
    "element.click()\n",
    "\n",
    "element = driver.find_element(By.XPATH,'//input[@type=\"file\"]')\n",
    "element.send_keys('/home/nl23/Desktop/bulk.csv')\n",
    "\n",
    "element = driver.find_element(By.XPATH,'//div[@class=\"ant-modal-footer\"]/button[2]')\n",
    "element.click()\n",
    "\n",
    "driver.refresh()"
   ]
  },
  {
   "cell_type": "code",
   "execution_count": 226,
   "metadata": {},
   "outputs": [
    {
     "ename": "ElementClickInterceptedException",
     "evalue": "Message: element click intercepted: Element <button type=\"button\" class=\"ant-btn ant-btn-circle ant-btn-primary ant-btn-icon-only ant-btn-background-ghost\" ant-click-animating-without-extra-node=\"false\">...</button> is not clickable at point (868, 260). Other element would receive the click: <div tabindex=\"-1\" class=\"ant-modal-wrap\">...</div>\n  (Session info: chrome=113.0.5672.92)\nStacktrace:\n#0 0x562fb886e133 <unknown>\n#1 0x562fb85a2966 <unknown>\n#2 0x562fb85e53f2 <unknown>\n#3 0x562fb85e35ac <unknown>\n#4 0x562fb85e13be <unknown>\n#5 0x562fb85e0696 <unknown>\n#6 0x562fb85d53ea <unknown>\n#7 0x562fb85febd2 <unknown>\n#8 0x562fb85d4d13 <unknown>\n#9 0x562fb85fed9e <unknown>\n#10 0x562fb86171c7 <unknown>\n#11 0x562fb85fe9a3 <unknown>\n#12 0x562fb85d346a <unknown>\n#13 0x562fb85d455e <unknown>\n#14 0x562fb882dcae <unknown>\n#15 0x562fb88318fe <unknown>\n#16 0x562fb883af20 <unknown>\n#17 0x562fb8832923 <unknown>\n#18 0x562fb8805c0e <unknown>\n#19 0x562fb8855b08 <unknown>\n#20 0x562fb8855c97 <unknown>\n#21 0x562fb8866113 <unknown>\n#22 0x7f8e144dd609 start_thread\n",
     "output_type": "error",
     "traceback": [
      "\u001b[0;31m---------------------------------------------------------------------------\u001b[0m",
      "\u001b[0;31mElementClickInterceptedException\u001b[0m          Traceback (most recent call last)",
      "Cell \u001b[0;32mIn[226], line 4\u001b[0m\n\u001b[1;32m      2\u001b[0m time\u001b[39m.\u001b[39msleep(\u001b[39m1\u001b[39m)\n\u001b[1;32m      3\u001b[0m edit_btn \u001b[39m=\u001b[39m driver\u001b[39m.\u001b[39mfind_element(By\u001b[39m.\u001b[39mXPATH,\u001b[39m'\u001b[39m\u001b[39m//tbody/tr[1]/td[6]/div/button[1]\u001b[39m\u001b[39m'\u001b[39m)\n\u001b[0;32m----> 4\u001b[0m edit_btn\u001b[39m.\u001b[39;49mclick()\n\u001b[1;32m      6\u001b[0m \u001b[39m# Name change\u001b[39;00m\n\u001b[1;32m      7\u001b[0m new_team_name\u001b[39m=\u001b[39m\u001b[39m\"\u001b[39m\u001b[39mtesting-edit-team-RaghavN\u001b[39m\u001b[39m\"\u001b[39m\n",
      "File \u001b[0;32m~/Desktop/FX-automate/env/lib/python3.11/site-packages/selenium/webdriver/remote/webelement.py:94\u001b[0m, in \u001b[0;36mWebElement.click\u001b[0;34m(self)\u001b[0m\n\u001b[1;32m     92\u001b[0m \u001b[39mdef\u001b[39;00m \u001b[39mclick\u001b[39m(\u001b[39mself\u001b[39m) \u001b[39m-\u001b[39m\u001b[39m>\u001b[39m \u001b[39mNone\u001b[39;00m:\n\u001b[1;32m     93\u001b[0m \u001b[39m    \u001b[39m\u001b[39m\"\"\"Clicks the element.\"\"\"\u001b[39;00m\n\u001b[0;32m---> 94\u001b[0m     \u001b[39mself\u001b[39;49m\u001b[39m.\u001b[39;49m_execute(Command\u001b[39m.\u001b[39;49mCLICK_ELEMENT)\n",
      "File \u001b[0;32m~/Desktop/FX-automate/env/lib/python3.11/site-packages/selenium/webdriver/remote/webelement.py:403\u001b[0m, in \u001b[0;36mWebElement._execute\u001b[0;34m(self, command, params)\u001b[0m\n\u001b[1;32m    401\u001b[0m     params \u001b[39m=\u001b[39m {}\n\u001b[1;32m    402\u001b[0m params[\u001b[39m\"\u001b[39m\u001b[39mid\u001b[39m\u001b[39m\"\u001b[39m] \u001b[39m=\u001b[39m \u001b[39mself\u001b[39m\u001b[39m.\u001b[39m_id\n\u001b[0;32m--> 403\u001b[0m \u001b[39mreturn\u001b[39;00m \u001b[39mself\u001b[39;49m\u001b[39m.\u001b[39;49m_parent\u001b[39m.\u001b[39;49mexecute(command, params)\n",
      "File \u001b[0;32m~/Desktop/FX-automate/env/lib/python3.11/site-packages/selenium/webdriver/remote/webdriver.py:440\u001b[0m, in \u001b[0;36mWebDriver.execute\u001b[0;34m(self, driver_command, params)\u001b[0m\n\u001b[1;32m    438\u001b[0m response \u001b[39m=\u001b[39m \u001b[39mself\u001b[39m\u001b[39m.\u001b[39mcommand_executor\u001b[39m.\u001b[39mexecute(driver_command, params)\n\u001b[1;32m    439\u001b[0m \u001b[39mif\u001b[39;00m response:\n\u001b[0;32m--> 440\u001b[0m     \u001b[39mself\u001b[39;49m\u001b[39m.\u001b[39;49merror_handler\u001b[39m.\u001b[39;49mcheck_response(response)\n\u001b[1;32m    441\u001b[0m     response[\u001b[39m\"\u001b[39m\u001b[39mvalue\u001b[39m\u001b[39m\"\u001b[39m] \u001b[39m=\u001b[39m \u001b[39mself\u001b[39m\u001b[39m.\u001b[39m_unwrap_value(response\u001b[39m.\u001b[39mget(\u001b[39m\"\u001b[39m\u001b[39mvalue\u001b[39m\u001b[39m\"\u001b[39m, \u001b[39mNone\u001b[39;00m))\n\u001b[1;32m    442\u001b[0m     \u001b[39mreturn\u001b[39;00m response\n",
      "File \u001b[0;32m~/Desktop/FX-automate/env/lib/python3.11/site-packages/selenium/webdriver/remote/errorhandler.py:245\u001b[0m, in \u001b[0;36mErrorHandler.check_response\u001b[0;34m(self, response)\u001b[0m\n\u001b[1;32m    243\u001b[0m         alert_text \u001b[39m=\u001b[39m value[\u001b[39m\"\u001b[39m\u001b[39malert\u001b[39m\u001b[39m\"\u001b[39m]\u001b[39m.\u001b[39mget(\u001b[39m\"\u001b[39m\u001b[39mtext\u001b[39m\u001b[39m\"\u001b[39m)\n\u001b[1;32m    244\u001b[0m     \u001b[39mraise\u001b[39;00m exception_class(message, screen, stacktrace, alert_text)  \u001b[39m# type: ignore[call-arg]  # mypy is not smart enough here\u001b[39;00m\n\u001b[0;32m--> 245\u001b[0m \u001b[39mraise\u001b[39;00m exception_class(message, screen, stacktrace)\n",
      "\u001b[0;31mElementClickInterceptedException\u001b[0m: Message: element click intercepted: Element <button type=\"button\" class=\"ant-btn ant-btn-circle ant-btn-primary ant-btn-icon-only ant-btn-background-ghost\" ant-click-animating-without-extra-node=\"false\">...</button> is not clickable at point (868, 260). Other element would receive the click: <div tabindex=\"-1\" class=\"ant-modal-wrap\">...</div>\n  (Session info: chrome=113.0.5672.92)\nStacktrace:\n#0 0x562fb886e133 <unknown>\n#1 0x562fb85a2966 <unknown>\n#2 0x562fb85e53f2 <unknown>\n#3 0x562fb85e35ac <unknown>\n#4 0x562fb85e13be <unknown>\n#5 0x562fb85e0696 <unknown>\n#6 0x562fb85d53ea <unknown>\n#7 0x562fb85febd2 <unknown>\n#8 0x562fb85d4d13 <unknown>\n#9 0x562fb85fed9e <unknown>\n#10 0x562fb86171c7 <unknown>\n#11 0x562fb85fe9a3 <unknown>\n#12 0x562fb85d346a <unknown>\n#13 0x562fb85d455e <unknown>\n#14 0x562fb882dcae <unknown>\n#15 0x562fb88318fe <unknown>\n#16 0x562fb883af20 <unknown>\n#17 0x562fb8832923 <unknown>\n#18 0x562fb8805c0e <unknown>\n#19 0x562fb8855b08 <unknown>\n#20 0x562fb8855c97 <unknown>\n#21 0x562fb8866113 <unknown>\n#22 0x7f8e144dd609 start_thread\n"
     ]
    }
   ],
   "source": [
    "# Edit and Delete Testing\n",
    "time.sleep(1)\n",
    "edit_btn = driver.find_element(By.XPATH,'//tbody/tr[1]/td[6]/div/button[1]')\n",
    "edit_btn.click()\n",
    "\n",
    "# Name change\n",
    "new_team_name=\"testing-edit-team-RaghavN\"\n",
    "\n",
    "name = WebDriverWait(driver, 20).until(EC.element_to_be_clickable((By.XPATH, f'//div[@class=\"ant-modal-body\"]/form/input[@value={add_team_name}]')))\n",
    "# name = driver.find_element(By.XPATH,f'//div[@class=\"ant-modal-body\"]/form/input[@value={add_team_name}]')\n",
    "\n",
    "name.send_keys(new_team_name)\n"
   ]
  },
  {
   "cell_type": "code",
   "execution_count": null,
   "metadata": {},
   "outputs": [],
   "source": []
  }
 ],
 "metadata": {
  "kernelspec": {
   "display_name": "env",
   "language": "python",
   "name": "python3"
  },
  "language_info": {
   "codemirror_mode": {
    "name": "ipython",
    "version": 3
   },
   "file_extension": ".py",
   "mimetype": "text/x-python",
   "name": "python",
   "nbconvert_exporter": "python",
   "pygments_lexer": "ipython3",
   "version": "3.11.3"
  },
  "orig_nbformat": 4
 },
 "nbformat": 4,
 "nbformat_minor": 2
}
