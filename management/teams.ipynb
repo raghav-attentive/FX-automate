{
 "cells": [
  {
   "cell_type": "code",
   "execution_count": 146,
   "metadata": {},
   "outputs": [],
   "source": [
    "import time\n",
    "from selenium import webdriver\n",
    "from selenium.webdriver.common.keys import Keys\n",
    "from selenium.webdriver.common.by import By\n",
    "from selenium.webdriver.common.action_chains import ActionChains\n",
    "from selenium.webdriver.support.ui import WebDriverWait\n",
    "from selenium.webdriver.support import expected_conditions as EC\n",
    "import pyautogui, sys\n",
    "import mouse\n",
    "import requests"
   ]
  },
  {
   "cell_type": "code",
   "execution_count": 147,
   "metadata": {},
   "outputs": [],
   "source": [
    "time.sleep(2)"
   ]
  },
  {
   "cell_type": "code",
   "execution_count": 148,
   "metadata": {},
   "outputs": [],
   "source": [
    "# Open Browser\n",
    "driver = webdriver.Chrome()\n",
    "driver.maximize_window()\n",
    "driver.get(\"https://qa.annotations.attentive.ai\")"
   ]
  },
  {
   "cell_type": "code",
   "execution_count": 149,
   "metadata": {},
   "outputs": [
    {
     "name": "stdout",
     "output_type": "stream",
     "text": [
      "User logged In Successfully!\n"
     ]
    }
   ],
   "source": [
    "# Login annotations \n",
    "email = driver.find_element(By.XPATH,'/html/body/div/div/section/div/div[2]/div/div/form/input')\n",
    "email.click()\n",
    "email.send_keys('raghav.narula@attentive.ai')\n",
    "\n",
    "pwd = driver.find_element(By.XPATH,'/html/body/div/div/section/div/div[2]/div/div/form/span/input')\n",
    "pwd.click()\n",
    "pwd.send_keys('Password!123')\n",
    "\n",
    "driver.find_element(By.XPATH,'/html/body/div/div/section/div/div[2]/div/div/form/button').click()\n",
    "\n",
    "print(\"User logged In Successfully!\")"
   ]
  },
  {
   "cell_type": "code",
   "execution_count": 150,
   "metadata": {},
   "outputs": [],
   "source": [
    "time.sleep(2)   "
   ]
  },
  {
   "cell_type": "code",
   "execution_count": 151,
   "metadata": {},
   "outputs": [],
   "source": [
    "driver.get('https://qa.annotations.attentive.ai/management/team')"
   ]
  },
  {
   "cell_type": "code",
   "execution_count": 152,
   "metadata": {},
   "outputs": [],
   "source": [
    "# Add Team\n",
    "add_team_name = \"testing-team-raghavN\""
   ]
  },
  {
   "cell_type": "code",
   "execution_count": 153,
   "metadata": {},
   "outputs": [
    {
     "name": "stdout",
     "output_type": "stream",
     "text": [
      "Add Team Popup Opens\n"
     ]
    }
   ],
   "source": [
    "time.sleep(1)\n",
    "add_team_button = driver.find_element(By.XPATH,'//span[text()=\"Add Team\"]/..')\n",
    "add_team_button.click()\n",
    "print(\"Add Team Popup Opens\")"
   ]
  },
  {
   "cell_type": "code",
   "execution_count": 154,
   "metadata": {},
   "outputs": [],
   "source": [
    "# Fill in the details\n",
    "\n",
    "# Enter Name\n",
    "enter_name = driver.find_element(By.XPATH,'//div[@class=\"ant-modal-body\"]/input')\n",
    "enter_name.send_keys(add_team_name)\n",
    "\n",
    "\n",
    "# Select Users\n",
    "select_users = driver.find_element(By.XPATH,'//div[@class=\"ant-modal-body\"]/div[1]')\n",
    "select_users.click()\n",
    "\n",
    "no_of_users = 4\n",
    "time.sleep(1)\n",
    "for i in range(no_of_users):\n",
    "    user = driver.find_element(By.XPATH,f'//div[@class=\"rc-virtual-list\"]/div/div/div/div[{i+1}]')    \n",
    "    user.click()\n",
    "    time.sleep(0.5)\n",
    "\n",
    "select_users.click()\n",
    "\n",
    "time.sleep(1)\n",
    "# Remove One User\n",
    "# removing second user\n",
    "remove_user = driver.find_element(By.XPATH,'//div[@class=\"ant-select-selector\"]/div/div[2]/span[1]/span[2]')\n",
    "remove_user.click()\n",
    "\n",
    "    "
   ]
  },
  {
   "cell_type": "code",
   "execution_count": 155,
   "metadata": {},
   "outputs": [],
   "source": [
    "# Select Source Type\n",
    "select_source_type = driver.find_element(By.XPATH,'//div[@class=\"ant-modal-body\"]/div[2]')\n",
    "select_source_type.click()\n",
    "\n",
    "source_type = \"fms\"\n",
    "a = WebDriverWait(driver, 20).until(EC.element_to_be_clickable((By.XPATH, f'//div[text()=\"{source_type}\" and @class=\"ant-select-item-option-content\"]')))\n",
    "\n",
    "a.click()"
   ]
  },
  {
   "cell_type": "code",
   "execution_count": 156,
   "metadata": {},
   "outputs": [],
   "source": [
    "# Select Layer Group\n",
    "select_source_type = driver.find_element(By.XPATH,'//div[@class=\"ant-modal-body\"]/div[3]')\n",
    "select_source_type.click()\n",
    "\n",
    "layer_number = \"158\"\n",
    "a = WebDriverWait(driver, 20).until(EC.element_to_be_clickable((By.XPATH, f'//div[text()=\"{layer_number}\" and @class=\"ant-select-item-option-content\"]')))\n",
    "a.click()"
   ]
  },
  {
   "cell_type": "code",
   "execution_count": 157,
   "metadata": {},
   "outputs": [],
   "source": [
    "# Submit Button\n",
    "submit_btn = driver.find_element(By.XPATH,'//span[text()=\"Submit\"]')\n",
    "submit_btn.click()"
   ]
  },
  {
   "cell_type": "code",
   "execution_count": 158,
   "metadata": {},
   "outputs": [
    {
     "name": "stdout",
     "output_type": "stream",
     "text": [
      "Add Team Successfully working\n"
     ]
    }
   ],
   "source": [
    "print(\"Add Team Successfully working\")\n",
    "time.sleep(5)"
   ]
  },
  {
   "cell_type": "code",
   "execution_count": 166,
   "metadata": {},
   "outputs": [],
   "source": [
    "# Check filter by Souce Type\n",
    "element = WebDriverWait(driver, 3).until(EC.element_to_be_clickable((By.XPATH, '//span[text()=\"Filter by source type..\"]/../..')))\n",
    "element.click()\n",
    "time.sleep(1)\n",
    "# driver.execute_script(\"arguments[0].click();\",element)\n",
    "element = driver.find_element(By.XPATH,'//div[@class=\"ant-select-dropdown ant-select-dropdown-placement-bottomLeft \"]/div/div/div/div/div/div[@title=\"fms\"]')\n",
    "element.click()\n",
    "\n",
    "\n",
    "# Remove filter"
   ]
  },
  {
   "cell_type": "code",
   "execution_count": 144,
   "metadata": {},
   "outputs": [],
   "source": [
    "# Priority Check and Table check\n",
    "table = driver.find_element(By.XPATH,\"//tbody/tr[1]/td[5]/span/span/span/label/span\")\n",
    "table.click()\n",
    "time.sleep(3)\n",
    "table.click()\n",
    "\n",
    "print(\"Priority Checking Clicked... and Working\")"
   ]
  },
  {
   "cell_type": "code",
   "execution_count": null,
   "metadata": {},
   "outputs": [],
   "source": [
    "# Bulk User Upload\n"
   ]
  },
  {
   "cell_type": "code",
   "execution_count": null,
   "metadata": {},
   "outputs": [],
   "source": [
    "# Edit and Delete Testing"
   ]
  }
 ],
 "metadata": {
  "kernelspec": {
   "display_name": "env",
   "language": "python",
   "name": "python3"
  },
  "language_info": {
   "codemirror_mode": {
    "name": "ipython",
    "version": 3
   },
   "file_extension": ".py",
   "mimetype": "text/x-python",
   "name": "python",
   "nbconvert_exporter": "python",
   "pygments_lexer": "ipython3",
   "version": "3.11.3"
  },
  "orig_nbformat": 4
 },
 "nbformat": 4,
 "nbformat_minor": 2
}
