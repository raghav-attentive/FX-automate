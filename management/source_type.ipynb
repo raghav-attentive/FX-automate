{
 "cells": [
  {
   "cell_type": "code",
   "execution_count": 242,
   "metadata": {},
   "outputs": [],
   "source": [
    "import time\n",
    "from selenium import webdriver\n",
    "from selenium.webdriver.common.keys import Keys\n",
    "from selenium.webdriver.common.by import By\n",
    "from selenium.webdriver.common.action_chains import ActionChains\n",
    "from selenium.webdriver.support.ui import WebDriverWait\n",
    "from selenium.webdriver.support import expected_conditions as EC\n",
    "import pyautogui, sys\n",
    "import mouse\n",
    "import requests"
   ]
  },
  {
   "cell_type": "code",
   "execution_count": 243,
   "metadata": {},
   "outputs": [],
   "source": [
    "# Send Notifications \n",
    "def sendmessage(message):\n",
    "    subprocess.Popen(['notify-send', message])\n",
    "    return"
   ]
  },
  {
   "cell_type": "code",
   "execution_count": 244,
   "metadata": {},
   "outputs": [],
   "source": [
    "token,platform = \"20a53160bcb4de7fb0430c1ea66e52a45e38efb69e22089d8bcd1fd483b25f40\",\"staging\""
   ]
  },
  {
   "cell_type": "code",
   "execution_count": 245,
   "metadata": {},
   "outputs": [],
   "source": [
    "# Open Browser\n",
    "driver = webdriver.Chrome()\n",
    "driver.maximize_window()\n",
    "driver.get(\"https://qa.annotations.attentive.ai\")   "
   ]
  },
  {
   "cell_type": "code",
   "execution_count": 246,
   "metadata": {},
   "outputs": [],
   "source": [
    "# Login annotations \n",
    "email = driver.find_element(By.XPATH,'/html/body/div/div/section/div/div[2]/div/div/form/input')\n",
    "email.click()\n",
    "email.send_keys('raghav.narula@attentive.ai')\n",
    "\n",
    "pwd = driver.find_element(By.XPATH,'/html/body/div/div/section/div/div[2]/div/div/form/span/input')\n",
    "pwd.click()\n",
    "pwd.send_keys('Password!123')\n",
    "\n",
    "driver.find_element(By.XPATH,'/html/body/div/div/section/div/div[2]/div/div/form/button').click()\n",
    "\n",
    "sendmessage(\"User logged In Successfully!\")"
   ]
  },
  {
   "cell_type": "code",
   "execution_count": 247,
   "metadata": {},
   "outputs": [],
   "source": [
    "time.sleep(5)"
   ]
  },
  {
   "cell_type": "code",
   "execution_count": 248,
   "metadata": {},
   "outputs": [],
   "source": [
    "driver.get('https://qa.annotations.attentive.ai/management/source-type')"
   ]
  },
  {
   "cell_type": "code",
   "execution_count": 249,
   "metadata": {},
   "outputs": [],
   "source": [
    "## Add and Delete Source Type ...\n",
    "source_type_name = \"tester\"\n",
    "sendmessage(f\"Selected Source Type:{source_type_name}\")"
   ]
  },
  {
   "cell_type": "code",
   "execution_count": 250,
   "metadata": {},
   "outputs": [
    {
     "name": "stdout",
     "output_type": "stream",
     "text": [
      "New Source Type Created\n"
     ]
    }
   ],
   "source": [
    "time.sleep(1)\n",
    "# Open Add source type popup\n",
    "add_source_type = driver.find_element(By.XPATH,'//span[text()=\"Add Source Type\"]/..')\n",
    "add_source_type.click()\n",
    "sendmessage(\"Add Source Type PopUp opens\")\n",
    "# Enter the Source name and Click Submit..\n",
    "enter_source_name = driver.find_element(By.XPATH,'//input[@placeholder=\"Enter source name...\"]')\n",
    "time.sleep(1)\n",
    "enter_source_name.click()\n",
    "enter_source_name.send_keys(f'{source_type_name}')\n",
    "\n",
    "submit_button = driver.find_element(By.XPATH,'//span[text()=\"Submit\"]')\n",
    "submit_button.click()\n",
    "\n",
    "sendmessage(\"New Source Type Created..\")\n",
    "print(\"New Source Type Created\")\n",
    "# except:\n",
    "#     # Open Add source type popup\n",
    "#     add_source_type = driver.find_element(By.XPATH,'//span[text()=\"Add Source Type\"]/..')\n",
    "#     add_source_type.click()\n",
    "\n",
    "#     # Enter the Source name and Click Submit..\n",
    "\n",
    "#     enter_source_name = driver.find_element(By.XPATH,'//input[@placeholder=\"Enter source name...\"]')\n",
    "#     time.sleep(1)\n",
    "#     enter_source_name.click()\n",
    "#     enter_source_name.send_keys(f'{source_type_name}')\n",
    "\n",
    "#     submit_button = driver.find_element(By.XPATH,'//span[text()=\"Submit\"]')\n",
    "#     submit_button.click()\n",
    "#     print(\"New Source Type Created..\")"
   ]
  },
  {
   "cell_type": "code",
   "execution_count": 251,
   "metadata": {},
   "outputs": [
    {
     "name": "stdout",
     "output_type": "stream",
     "text": [
      "Toast Message --> Source Type with this Source Type already exists.\n"
     ]
    }
   ],
   "source": [
    "# Open Add source type pop up\n",
    "add_source_type = driver.find_element(By.XPATH,'//span[text()=\"Add Source Type\"]/..')\n",
    "time.sleep(1)\n",
    "add_source_type.click()\n",
    "\n",
    "# Repeating with same source type.. to check if same source type is allowed or not..\n",
    "\n",
    "enter_source_name = driver.find_element(By.XPATH,'//input[@placeholder=\"Enter source name...\"]')\n",
    "time.sleep(1)\n",
    "enter_source_name.click()\n",
    "enter_source_name.send_keys(f'{source_type_name}')\n",
    "\n",
    "submit_button = driver.find_element(By.XPATH,'//span[text()=\"Submit\"]')\n",
    "time.sleep(1)\n",
    "submit_button.click()\n",
    "time.sleep(1)\n",
    "\n",
    "try:\n",
    "    toast_msg = driver.find_element(By.XPATH,'//span[text()=\"Source Type with this Source Type already exists.\"]')\n",
    "    print(\"Toast Message --> Source Type with this Source Type already exists.\")\n",
    "    sendmessage(\"Toast Message Appears\")\n",
    "except:\n",
    "    print(\"Toast Message is not coming..\")\n",
    "    sendmessage(\"Toast Message Not Shown.. Error\")\n"
   ]
  },
  {
   "cell_type": "code",
   "execution_count": 252,
   "metadata": {},
   "outputs": [],
   "source": [
    "# Delete Source Type (Take Me Back)\n",
    "time.sleep(2)\n",
    "delete_source_name = driver.find_element(By.XPATH,f'//tr[@data-row-key=\"{source_type_name}\"]/td[2]/button') # delete button\n",
    "time.sleep(1)\n",
    "delete_source_name.click()\n",
    "\n",
    "# Dialog box must open\n",
    "type_in = driver.find_element(By.XPATH,'//small[text()=\"Type exactly the same name with same case & spacing.\"]/../input')\n",
    "time.sleep(1)\n",
    "type_in.click()\n",
    "type_in.send_keys(source_type_name)\n",
    "\n",
    "click_delete_button = driver.find_element(By.XPATH,'//span[text()=\"Take me back\"]/..')\n",
    "time.sleep(2)\n",
    "click_delete_button.click()\n",
    "sendmessage(\"Take Me Back Working\")\n"
   ]
  },
  {
   "cell_type": "code",
   "execution_count": 253,
   "metadata": {},
   "outputs": [
    {
     "name": "stdout",
     "output_type": "stream",
     "text": [
      "Toast Message --> Please type the exact name.\n"
     ]
    }
   ],
   "source": [
    "# Delete Source Type(writing wrong name)\n",
    "time.sleep(1)\n",
    "delete_source_name = driver.find_element(By.XPATH,f'//tr[@data-row-key=\"{source_type_name}\"]/td[2]/button') # delete button\n",
    "time.sleep(1)\n",
    "delete_source_name.click()\n",
    "\n",
    "# Dialog box must open\n",
    "type_in = driver.find_element(By.XPATH,'//small[text()=\"Type exactly the same name with same case & spacing.\"]/../input')\n",
    "time.sleep(1)\n",
    "type_in.click()\n",
    "type_in.send_keys(\"Wrong Data\")\n",
    "time.sleep(2)\n",
    "\n",
    "click_delete_button = driver.find_element(By.XPATH,'//span[text()=\"Delete Source Type\"]/..')\n",
    "time.sleep(1)\n",
    "click_delete_button.click()\n",
    "time.sleep(1)\n",
    "\n",
    "try:\n",
    "    toast_msg = driver.find_element(By.XPATH,'//span[text()=\"Please type the exact name.\"]')\n",
    "    print(\"Toast Message --> Please type the exact name.\")\n",
    "    sendmessage(\"Writing Wrong Name Tested\")\n",
    "except:\n",
    "    print(\"Toast Message is not coming..\")\n",
    "    sendmessage(\"Toast Message is not coming..\")\n",
    "\n",
    "# Close the Pop Up\n",
    "close_button = driver.find_element(By.XPATH,f'//div[text()=\"Delete {source_type_name}?\"]/../../button/span/span')\n",
    "close_button.click()"
   ]
  },
  {
   "cell_type": "code",
   "execution_count": 254,
   "metadata": {},
   "outputs": [],
   "source": [
    "# Delete a Source Type (Successful one..)\n",
    "time.sleep(2)\n",
    "delete_source_name = driver.find_element(By.XPATH,f'//tr[@data-row-key=\"{source_type_name}\"]/td[2]/button') # delete button\n",
    "time.sleep(1)\n",
    "delete_source_name.click()\n",
    "\n",
    "# Dialog box must open\n",
    "type_in = driver.find_element(By.XPATH,'//small[text()=\"Type exactly the same name with same case & spacing.\"]/../input')\n",
    "time.sleep(1)\n",
    "type_in.click()\n",
    "type_in.send_keys(source_type_name)\n",
    "\n",
    "click_delete_button = driver.find_element(By.XPATH,'//span[text()=\"Delete Source Type\"]/..')\n",
    "time.sleep(1)\n",
    "click_delete_button.click()\n",
    "\n",
    "sendmessage(\"Successful Deletion of Source Type\")"
   ]
  }
 ],
 "metadata": {
  "kernelspec": {
   "display_name": "env",
   "language": "python",
   "name": "python3"
  },
  "language_info": {
   "codemirror_mode": {
    "name": "ipython",
    "version": 3
   },
   "file_extension": ".py",
   "mimetype": "text/x-python",
   "name": "python",
   "nbconvert_exporter": "python",
   "pygments_lexer": "ipython3",
   "version": "3.10.6"
  },
  "orig_nbformat": 4
 },
 "nbformat": 4,
 "nbformat_minor": 2
}
