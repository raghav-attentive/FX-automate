{
 "cells": [
  {
   "cell_type": "code",
   "execution_count": 116,
   "metadata": {},
   "outputs": [],
   "source": [
    "import time\n",
    "from selenium import webdriver\n",
    "from selenium.webdriver.common.keys import Keys\n",
    "from selenium.webdriver.common.by import By\n",
    "from selenium.webdriver.common.action_chains import ActionChains\n",
    "from selenium.webdriver.support.ui import WebDriverWait\n",
    "from selenium.webdriver.support import expected_conditions as EC\n",
    "import pyautogui, sys\n",
    "import mouse\n",
    "import requests\n",
    "from selenium.webdriver.common.action_chains import ActionChains\n",
    "from selenium.webdriver.common.keys import Keys"
   ]
  },
  {
   "cell_type": "code",
   "execution_count": 99,
   "metadata": {},
   "outputs": [],
   "source": [
    "# Open Browser\n",
    "driver = webdriver.Chrome()\n",
    "driver.maximize_window()\n",
    "driver.get(\"https://qa.annotations.attentive.ai\")   "
   ]
  },
  {
   "cell_type": "code",
   "execution_count": 117,
   "metadata": {},
   "outputs": [],
   "source": [
    "actions = ActionChains(driver)"
   ]
  },
  {
   "cell_type": "code",
   "execution_count": 100,
   "metadata": {},
   "outputs": [
    {
     "name": "stdout",
     "output_type": "stream",
     "text": [
      "User logged In Successfully!\n"
     ]
    }
   ],
   "source": [
    "# Login annotations \n",
    "email = driver.find_element(By.XPATH,'/html/body/div/div/section/div/div[2]/div/div/form/input')\n",
    "email.click()\n",
    "email.send_keys('raghav.narula@attentive.ai')\n",
    "\n",
    "pwd = driver.find_element(By.XPATH,'/html/body/div/div/section/div/div[2]/div/div/form/span/input')\n",
    "pwd.click()\n",
    "pwd.send_keys('Password!123')\n",
    "\n",
    "driver.find_element(By.XPATH,'/html/body/div/div/section/div/div[2]/div/div/form/button').click()\n",
    "\n",
    "print(\"User logged In Successfully!\")"
   ]
  },
  {
   "cell_type": "code",
   "execution_count": 101,
   "metadata": {},
   "outputs": [],
   "source": [
    "time.sleep(2)\n",
    "driver.get('https://qa.annotations.attentive.ai/management/layers-group')"
   ]
  },
  {
   "cell_type": "code",
   "execution_count": 102,
   "metadata": {},
   "outputs": [
    {
     "name": "stdout",
     "output_type": "stream",
     "text": [
      "Add Layer Group Pop Up Opens\n",
      "List Appears\n"
     ]
    }
   ],
   "source": [
    "time.sleep(1)\n",
    "# Open Add source type popup\n",
    "add_layer = driver.find_element(By.XPATH,'//span[text()=\"Add Layer Group\"]/..')\n",
    "add_layer.click()\n",
    "print(\"Add Layer Group Pop Up Opens\")\n",
    "\n",
    "click_select_layers = driver.find_element(By.XPATH,'//span[text()=\"Select Layers\"]/../..')\n",
    "time.sleep(1)\n",
    "click_select_layers.click()\n",
    "\n",
    "all_layers = driver.find_elements(By.XPATH,'//div[@class=\"ant-select-item-option-content\"]')\n",
    "print(\"List Appears\")\n",
    "\n",
    "# Select 3 layers... and also test deselect\n",
    "time.sleep(0.5)\n",
    "\n",
    "layer_1 = driver.find_element(By.XPATH,f'//div[text()=\"{all_layers[0].text}\"]')\n",
    "layer_1.click()\n",
    "time.sleep(0.5)\n",
    "\n",
    "layer_2 = driver.find_element(By.XPATH,f'//div[text()=\"{all_layers[1].text}\"]')\n",
    "layer_2.click()\n",
    "time.sleep(0.5)\n",
    "\n",
    "layer_3 = driver.find_element(By.XPATH,f'//div[text()=\"{all_layers[2].text}\"]')\n",
    "layer_3.click()\n",
    "time.sleep(0.5)\n",
    "\n",
    "layer_4 = driver.find_element(By.XPATH,f'//div[text()=\"{all_layers[3].text}\"]')\n",
    "layer_4.click()\n",
    "time.sleep(0.5)\n",
    "\n",
    "layer_5 = driver.find_element(By.XPATH,f'//div[text()=\"{all_layers[4].text}\"]')\n",
    "layer_5.click()\n",
    "time.sleep(0.5)\n",
    "\n",
    "# Deselect one of them..\n",
    "layer_1.click() # from the dropdown menu\n",
    "\n",
    "# Remove the dropdown\n",
    "title_click = driver.find_element(By.XPATH,'//div[text()=\"Layer Group\"]')\n",
    "title_click.click()\n",
    "\n",
    "# Remove one from the list \n",
    "remove_list = driver.find_elements(By.XPATH,'//div[text()=\"ant-select-selection-overflow-item\"]')\n",
    "\n",
    "# for i in range(len(all_layers)):\n",
    "\n",
    "submit_button = driver.find_element(By.XPATH,'//span[text()=\"Submit\"]')\n",
    "submit_button.click()\n"
   ]
  },
  {
   "cell_type": "code",
   "execution_count": 103,
   "metadata": {},
   "outputs": [],
   "source": [
    "# //div[@class=\"ant-select-dropdown ant-select-dropdown-placement-bottomLeft  ant-select-dropdown-hidden\"]/div/div[2]/div/div/div/div"
   ]
  },
  {
   "cell_type": "code",
   "execution_count": 107,
   "metadata": {},
   "outputs": [],
   "source": [
    "time.sleep(2)\n",
    "edit_button = driver.find_element(By.XPATH,'//tbody/tr/td[3]/div/button[1]')\n",
    "edit_button.click()"
   ]
  },
  {
   "cell_type": "code",
   "execution_count": 120,
   "metadata": {},
   "outputs": [],
   "source": [
    "all_layers = driver.find_element(By.XPATH,'//div[@class=\"ant-modal-body\"]')\n",
    "all_layers.click()\n",
    "time.sleep(1)\n",
    "ActionChains(driver).send_keys(Keys.BACKSPACE).perform()\n",
    "time.sleep(2)\n",
    "for i in range(8):\n",
    "    actions.send_keys(Keys.ARROW_DOWN)\n",
    "    time.sleep(0.5)\n",
    "    actions.perform()\n",
    "actions.click()\n",
    "\n",
    "# Press save Button\n",
    "save_btn = driver.find_element(By.XPATH,'//span[text()=\"Save\"]')\n",
    "save_btn.click()"
   ]
  },
  {
   "cell_type": "code",
   "execution_count": 123,
   "metadata": {},
   "outputs": [],
   "source": [
    "# Delete Button\n",
    "time.sleep(1)\n",
    "delete_btn = driver.find_element(By.XPATH,'//tbody/tr/td[3]/div/button[2]')\n",
    "delete_btn.click()"
   ]
  },
  {
   "cell_type": "code",
   "execution_count": 128,
   "metadata": {},
   "outputs": [],
   "source": [
    "id = driver.find_element(By.XPATH,'//tbody/tr/td[1]').text"
   ]
  },
  {
   "cell_type": "code",
   "execution_count": 129,
   "metadata": {},
   "outputs": [],
   "source": [
    "# Edit and Delete \n",
    "# Delete Source Type (Take Me Back)\n",
    "\n",
    "type_in = driver.find_element(By.XPATH,'//small[text()=\"Type exactly the same name with same case & spacing.\"]/../input')\n",
    "time.sleep(1)\n",
    "type_in.click()\n",
    "type_in.send_keys(id)\n",
    "\n",
    "click_delete_button = driver.find_element(By.XPATH,'//span[text()=\"Take me back\"]/..')\n",
    "time.sleep(2)\n",
    "click_delete_button.click()\n"
   ]
  },
  {
   "cell_type": "code",
   "execution_count": 132,
   "metadata": {},
   "outputs": [
    {
     "name": "stdout",
     "output_type": "stream",
     "text": [
      "Toast Message --> Please type the exact name.\n"
     ]
    }
   ],
   "source": [
    "# Delete Source Type(writing wrong name)\n",
    "time.sleep(1)\n",
    "delete_btn = driver.find_element(By.XPATH,'//tbody/tr/td[3]/div/button[2]')\n",
    "delete_btn.click()\n",
    "\n",
    "# Dialog box must open\n",
    "type_in = driver.find_element(By.XPATH,'//small[text()=\"Type exactly the same name with same case & spacing.\"]/../input')\n",
    "time.sleep(1)\n",
    "type_in.click()\n",
    "type_in.send_keys(\"Wrong Data\")\n",
    "time.sleep(2)\n",
    "\n",
    "click_delete_button = driver.find_element(By.XPATH,'//span[text()=\"Delete Layer Group\"]/..')\n",
    "time.sleep(1)\n",
    "click_delete_button.click()\n",
    "time.sleep(1)\n",
    "\n",
    "try:\n",
    "    toast_msg = driver.find_element(By.XPATH,'//span[text()=\"Please type the exact name.\"]')\n",
    "    print(\"Toast Message --> Please type the exact name.\")\n",
    "except:\n",
    "    print(\"Toast Message is not coming..\")\n",
    "\n",
    "# Close the Pop Up\n",
    "close_button = driver.find_element(By.XPATH,f'//div[text()=\"Delete {id}?\"]/../../button/span/span')\n",
    "close_button.click()"
   ]
  },
  {
   "cell_type": "code",
   "execution_count": 136,
   "metadata": {},
   "outputs": [],
   "source": [
    "# Delete a Source Type (Successful one..)\n",
    "time.sleep(1)\n",
    "delete_btn = driver.find_element(By.XPATH,'//tbody/tr/td[3]/div/button[2]')\n",
    "delete_btn.click()\n",
    "\n",
    "# Dialog box must open\n",
    "type_in = driver.find_element(By.XPATH,'//small[text()=\"Type exactly the same name with same case & spacing.\"]/../input')\n",
    "time.sleep(1)\n",
    "type_in.click()\n",
    "type_in.send_keys(id)\n",
    "\n",
    "click_delete_button = driver.find_element(By.XPATH,'//span[text()=\"Delete Layer Group\"]/..')\n",
    "time.sleep(1)\n",
    "click_delete_button.click()\n",
    "print(\"Deleted Successfully...\")"
   ]
  }
 ],
 "metadata": {
  "kernelspec": {
   "display_name": "env",
   "language": "python",
   "name": "python3"
  },
  "language_info": {
   "codemirror_mode": {
    "name": "ipython",
    "version": 3
   },
   "file_extension": ".py",
   "mimetype": "text/x-python",
   "name": "python",
   "nbconvert_exporter": "python",
   "pygments_lexer": "ipython3",
   "version": "3.11.3"
  },
  "orig_nbformat": 4
 },
 "nbformat": 4,
 "nbformat_minor": 2
}
