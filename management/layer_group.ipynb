{
 "cells": [
  {
   "cell_type": "code",
   "execution_count": 1,
   "metadata": {},
   "outputs": [],
   "source": [
    "import time\n",
    "from selenium import webdriver\n",
    "from selenium.webdriver.common.keys import Keys\n",
    "from selenium.webdriver.common.by import By\n",
    "from selenium.webdriver.common.action_chains import ActionChains\n",
    "from selenium.webdriver.support.ui import WebDriverWait\n",
    "from selenium.webdriver.support import expected_conditions as EC\n",
    "import pyautogui, sys\n",
    "import mouse\n",
    "import requests"
   ]
  },
  {
   "cell_type": "code",
   "execution_count": 2,
   "metadata": {},
   "outputs": [],
   "source": [
    "# Open Browser\n",
    "driver = webdriver.Chrome()\n",
    "driver.maximize_window()\n",
    "driver.get(\"https://qa.annotations.attentive.ai\")   "
   ]
  },
  {
   "cell_type": "code",
   "execution_count": 3,
   "metadata": {},
   "outputs": [
    {
     "name": "stdout",
     "output_type": "stream",
     "text": [
      "User logged In Successfully!\n"
     ]
    }
   ],
   "source": [
    "# Login annotations \n",
    "email = driver.find_element(By.XPATH,'/html/body/div/div/section/div/div[2]/div/div/form/input')\n",
    "email.click()\n",
    "email.send_keys('raghav.narula@attentive.ai')\n",
    "\n",
    "pwd = driver.find_element(By.XPATH,'/html/body/div/div/section/div/div[2]/div/div/form/span/input')\n",
    "pwd.click()\n",
    "pwd.send_keys('Password!123')\n",
    "\n",
    "driver.find_element(By.XPATH,'/html/body/div/div/section/div/div[2]/div/div/form/button').click()\n",
    "\n",
    "print(\"User logged In Successfully!\")"
   ]
  },
  {
   "cell_type": "code",
   "execution_count": 4,
   "metadata": {},
   "outputs": [],
   "source": [
    "time.sleep(2)\n",
    "driver.get('https://qa.annotations.attentive.ai/management/layers-group')"
   ]
  },
  {
   "cell_type": "code",
   "execution_count": 18,
   "metadata": {},
   "outputs": [
    {
     "name": "stdout",
     "output_type": "stream",
     "text": [
      "Add Layer Group Pop Up Opens\n",
      "List Appears\n"
     ]
    }
   ],
   "source": [
    "time.sleep(1)\n",
    "# Open Add source type popup\n",
    "add_layer = driver.find_element(By.XPATH,'//span[text()=\"Add Layer Group\"]/..')\n",
    "add_layer.click()\n",
    "print(\"Add Layer Group Pop Up Opens\")\n",
    "\n",
    "click_select_layers = driver.find_element(By.XPATH,'//span[text()=\"Select Layers\"]/../..')\n",
    "time.sleep(1)\n",
    "click_select_layers.click()\n",
    "\n",
    "all_layers = driver.find_elements(By.XPATH,'//div[@class=\"ant-select-item-option-content\"]')\n",
    "print(\"List Appears\")\n",
    "\n",
    "# Select 3 layers... and also test deselect\n",
    "time.sleep(0.5)\n",
    "\n",
    "layer_1 = driver.find_element(By.XPATH,f'//div[text()=\"{all_layers[0].text}\"]')\n",
    "layer_1.click()\n",
    "time.sleep(0.5)\n",
    "\n",
    "layer_2 = driver.find_element(By.XPATH,f'//div[text()=\"{all_layers[1].text}\"]')\n",
    "layer_2.click()\n",
    "time.sleep(0.5)\n",
    "\n",
    "layer_3 = driver.find_element(By.XPATH,f'//div[text()=\"{all_layers[2].text}\"]')\n",
    "layer_3.click()\n",
    "time.sleep(0.5)\n",
    "\n",
    "layer_4 = driver.find_element(By.XPATH,f'//div[text()=\"{all_layers[3].text}\"]')\n",
    "layer_4.click()\n",
    "time.sleep(0.5)\n",
    "\n",
    "layer_5 = driver.find_element(By.XPATH,f'//div[text()=\"{all_layers[4].text}\"]')\n",
    "layer_5.click()\n",
    "time.sleep(0.5)\n",
    "\n",
    "# Deselect one of them..\n",
    "layer_1.click() # from the dropdown menu\n",
    "\n",
    "# Remove the dropdown\n",
    "title_click = driver.find_element(By.XPATH,'//div[text()=\"Layer Group\"]')\n",
    "title_click.click()\n",
    "\n",
    "# Remove one from the list \n",
    "remove_list = driver.find_elements(By.XPATH,'//div[text()=\"ant-select-selection-overflow-item\"]')\n",
    "\n",
    "# for i in range(len(all_layers)):\n",
    "# submit_button = driver.find_element(By.XPATH,'//span[text()=\"Submit\"]')\n",
    "# submit_button.click()\n"
   ]
  },
  {
   "cell_type": "code",
   "execution_count": null,
   "metadata": {},
   "outputs": [],
   "source": [
    "//div[@class=\"ant-select-dropdown ant-select-dropdown-placement-bottomLeft  ant-select-dropdown-hidden\"]/div/div[2]/div/div/div/div"
   ]
  }
 ],
 "metadata": {
  "kernelspec": {
   "display_name": "env",
   "language": "python",
   "name": "python3"
  },
  "language_info": {
   "codemirror_mode": {
    "name": "ipython",
    "version": 3
   },
   "file_extension": ".py",
   "mimetype": "text/x-python",
   "name": "python",
   "nbconvert_exporter": "python",
   "pygments_lexer": "ipython3",
   "version": "3.10.6"
  },
  "orig_nbformat": 4
 },
 "nbformat": 4,
 "nbformat_minor": 2
}
